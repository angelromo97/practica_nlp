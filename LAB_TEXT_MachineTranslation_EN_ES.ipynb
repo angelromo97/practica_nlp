{
  "nbformat": 4,
  "nbformat_minor": 0,
  "metadata": {
    "kernelspec": {
      "name": "python3710jvsc74a57bd0a655981306eac7221f2c13b7d3cde6c4233fb4bc6fc3ffb7196164e40a8189c0",
      "display_name": "Python 3.7.10 64-bit ('gpu': conda)"
    },
    "language_info": {
      "codemirror_mode": {
        "name": "ipython",
        "version": 3
      },
      "file_extension": ".py",
      "mimetype": "text/x-python",
      "name": "python",
      "nbconvert_exporter": "python",
      "pygments_lexer": "ipython3",
      "version": "3.7.0"
    },
    "colab": {
      "name": "LAB_TEXT_MachineTranslation_DE_EN.ipynb",
      "provenance": [],
      "collapsed_sections": [
        "CExKY92Y32Fh"
      ]
    },
    "metadata": {
      "interpreter": {
        "hash": "a655981306eac7221f2c13b7d3cde6c4233fb4bc6fc3ffb7196164e40a8189c0"
      }
    }
  },
  "cells": [
    {
      "source": [
        "# Práctica NLP Análisis de datos no estructurados.\n",
        "- Guillermo Bécquer\n",
        "- Luis Esgueva\n",
        "- Ángel Romo"
      ],
      "cell_type": "markdown",
      "metadata": {}
    },
    {
      "cell_type": "markdown",
      "metadata": {
        "id": "97Xb3UU032FM"
      },
      "source": [
        "### Import Required Libraries"
      ]
    },
    {
      "cell_type": "code",
      "metadata": {
        "id": "x-DEpLhB32FV",
        "outputId": "e9b1a2db-b071-4ba1-a085-2da20ace2571"
      },
      "source": [
        "import os\n",
        "import string\n",
        "import re\n",
        "import numpy as np\n",
        "from numpy import array, argmax, random, take\n",
        "import pandas as pd\n",
        "import tensorflow as tf\n",
        "from tensorflow.keras.models import Sequential\n",
        "from tensorflow.keras.layers import Dense, LSTM, Embedding, Bidirectional, RepeatVector, TimeDistributed\n",
        "from tensorflow.keras.preprocessing.text import Tokenizer\n",
        "from tensorflow.keras.callbacks import ModelCheckpoint, EarlyStopping\n",
        "from tensorflow.keras.preprocessing.sequence import pad_sequences\n",
        "from tensorflow.keras.models import load_model\n",
        "from tensorflow.keras import optimizers\n",
        "import matplotlib.pyplot as plt\n",
        "%matplotlib inline\n",
        "pd.set_option('display.max_colwidth', 200)"
      ],
      "execution_count": 1,
      "outputs": []
    },
    {
      "cell_type": "code",
      "execution_count": 2,
      "metadata": {},
      "outputs": [
        {
          "output_type": "stream",
          "name": "stdout",
          "text": [
            "Num GPUs: 1\nTrue\n"
          ]
        }
      ],
      "source": [
        "os.environ[\"TF_FORCE_GPU_ALLOW_GROWTH\"]=\"true\"\n",
        "physical_devices = tf.config.experimental.list_physical_devices('GPU')\n",
        "print(\"Num GPUs:\", len(physical_devices))\n",
        "print(tf.test.is_gpu_available())\n",
        "tf.config.experimental.set_memory_growth(physical_devices[0], True)"
      ]
    },
    {
      "cell_type": "markdown",
      "metadata": {
        "id": "CFHeQKn332FY"
      },
      "source": [
        "### Read Data"
      ]
    },
    {
      "cell_type": "markdown",
      "metadata": {
        "id": "JJ6QhqI232FZ"
      },
      "source": [
        "Our data is a text file of English-German sentence pairs. First we will read the file using the function defined below."
      ]
    },
    {
      "cell_type": "code",
      "metadata": {
        "id": "jtvkEi4q32FZ"
      },
      "source": [
        "# function to read raw text file\n",
        "def read_text(filename):\n",
        "    # open the file\n",
        "    file = open(filename, mode='rt', encoding='utf-8')\n",
        "    # read all text\n",
        "    text = file.read()\n",
        "    file.close()\n",
        "    return text"
      ],
      "execution_count": 3,
      "outputs": []
    },
    {
      "cell_type": "markdown",
      "metadata": {
        "id": "Zn-52FKU32FZ"
      },
      "source": [
        "Now let's define a function to split the text into English-German pairs separated by '\\n' and then split these pairs into English sentences and German sentences."
      ]
    },
    {
      "cell_type": "code",
      "metadata": {
        "id": "EnCAiHcw32Fa"
      },
      "source": [
        "# split a text into sentences\n",
        "def to_lines(text):\n",
        "    sents = text.strip().split('\\n')\n",
        "    sents = [i.split('\\t') for i in sents]\n",
        "    return sents"
      ],
      "execution_count": 4,
      "outputs": []
    },
    {
      "cell_type": "markdown",
      "metadata": {
        "id": "ZamPvPL832Fa"
      },
      "source": [
        "__Download the data from [here.](http://www.manythings.org/anki/deu-eng.zip)__ and extract \"deu.txt\" in your working directory."
      ]
    },
    {
      "cell_type": "code",
      "metadata": {
        "id": "-2T2vh_w32Fb"
      },
      "source": [
        "data = read_text(\"spa-eng/spa.txt\")\n",
        "spa_eng = to_lines(data)\n",
        "spa_eng = array(spa_eng)"
      ],
      "execution_count": 5,
      "outputs": []
    },
    {
      "cell_type": "markdown",
      "metadata": {
        "id": "l9lIFIU732Fb"
      },
      "source": [
        "The actual data contains over 150,000 sentence-pairs. However, we will use the first 50,000 sentence pairs only to reduce the training time of the model. You can change this number as per you system computation power."
      ]
    },
    {
      "cell_type": "code",
      "execution_count": 6,
      "metadata": {},
      "outputs": [],
      "source": [
        "MAX_NUM_SENTENCES = 25000"
      ]
    },
    {
      "cell_type": "code",
      "metadata": {
        "id": "uWp5k7_Y32Fc"
      },
      "source": [
        "spa_eng = spa_eng[:MAX_NUM_SENTENCES,:]"
      ],
      "execution_count": 7,
      "outputs": []
    },
    {
      "cell_type": "markdown",
      "metadata": {
        "id": "UToXxb9e32Fc"
      },
      "source": [
        "### Text Pre-Processing"
      ]
    },
    {
      "cell_type": "markdown",
      "metadata": {
        "id": "pHfV7fYr32Fd"
      },
      "source": [
        "#### Text Cleaning\n",
        "\n",
        "Let's take a look at our data, then we will decide which pre-processing steps to adopt."
      ]
    },
    {
      "cell_type": "code",
      "metadata": {
        "scrolled": true,
        "id": "LdACA1l_32Fd",
        "outputId": "eb3d17dc-8d1f-491c-b14c-1f212f564dd3"
      },
      "source": [
        "spa_eng"
      ],
      "execution_count": 8,
      "outputs": [
        {
          "output_type": "execute_result",
          "data": {
            "text/plain": [
              "array([['Go.', 'Ve.',\n",
              "        'CC-BY 2.0 (France) Attribution: tatoeba.org #2877272 (CM) & #4986655 (cueyayotl)'],\n",
              "       ['Go.', 'Vete.',\n",
              "        'CC-BY 2.0 (France) Attribution: tatoeba.org #2877272 (CM) & #4986656 (cueyayotl)'],\n",
              "       ['Go.', 'Vaya.',\n",
              "        'CC-BY 2.0 (France) Attribution: tatoeba.org #2877272 (CM) & #4986657 (cueyayotl)'],\n",
              "       ...,\n",
              "       ['I weigh 58 kilograms.', 'Peso 58 kilogramos.',\n",
              "        'CC-BY 2.0 (France) Attribution: tatoeba.org #1689840 (mookeee) & #1690643 (marcelostockle)'],\n",
              "       ['I went into the army.', 'Me uní al ejército.',\n",
              "        'CC-BY 2.0 (France) Attribution: tatoeba.org #262188 (CK) & #1781379 (marcelostockle)'],\n",
              "       ['I went into the navy.', 'Me fui a la marina.',\n",
              "        'CC-BY 2.0 (France) Attribution: tatoeba.org #256592 (CK) & #5566661 (swyter)']],\n",
              "      dtype='<U332')"
            ]
          },
          "metadata": {},
          "execution_count": 8
        }
      ]
    },
    {
      "cell_type": "markdown",
      "metadata": {
        "id": "1F_M0kcy32Fe"
      },
      "source": [
        "We will get rid of the punctuation marks, and then convert the text to lower case."
      ]
    },
    {
      "cell_type": "code",
      "metadata": {
        "id": "fAaBknl632Ff"
      },
      "source": [
        "# Remove punctuation\n",
        "spa_eng[:,0] = [s.translate(str.maketrans('', '', string.punctuation)) for s in spa_eng[:,0]]\n",
        "spa_eng[:,1] = [s.translate(str.maketrans('', '', string.punctuation)) for s in spa_eng[:,1]]"
      ],
      "execution_count": 9,
      "outputs": []
    },
    {
      "cell_type": "code",
      "metadata": {
        "id": "qH5TSuVd32Ff",
        "outputId": "b7b9852f-5d55-4abd-d39d-70db5ff2d402"
      },
      "source": [
        "spa_eng"
      ],
      "execution_count": 10,
      "outputs": [
        {
          "output_type": "execute_result",
          "data": {
            "text/plain": [
              "array([['Go', 'Ve',\n",
              "        'CC-BY 2.0 (France) Attribution: tatoeba.org #2877272 (CM) & #4986655 (cueyayotl)'],\n",
              "       ['Go', 'Vete',\n",
              "        'CC-BY 2.0 (France) Attribution: tatoeba.org #2877272 (CM) & #4986656 (cueyayotl)'],\n",
              "       ['Go', 'Vaya',\n",
              "        'CC-BY 2.0 (France) Attribution: tatoeba.org #2877272 (CM) & #4986657 (cueyayotl)'],\n",
              "       ...,\n",
              "       ['I weigh 58 kilograms', 'Peso 58 kilogramos',\n",
              "        'CC-BY 2.0 (France) Attribution: tatoeba.org #1689840 (mookeee) & #1690643 (marcelostockle)'],\n",
              "       ['I went into the army', 'Me uní al ejército',\n",
              "        'CC-BY 2.0 (France) Attribution: tatoeba.org #262188 (CK) & #1781379 (marcelostockle)'],\n",
              "       ['I went into the navy', 'Me fui a la marina',\n",
              "        'CC-BY 2.0 (France) Attribution: tatoeba.org #256592 (CK) & #5566661 (swyter)']],\n",
              "      dtype='<U332')"
            ]
          },
          "metadata": {},
          "execution_count": 10
        }
      ]
    },
    {
      "cell_type": "code",
      "metadata": {
        "scrolled": true,
        "id": "f5AN5j1b32Fg"
      },
      "source": [
        "# convert to lowercase\n",
        "for i in range(len(spa_eng)):\n",
        "    spa_eng[i,0] = spa_eng[i,0].lower()\n",
        "    \n",
        "    spa_eng[i,1] = spa_eng[i,1].lower()"
      ],
      "execution_count": 11,
      "outputs": []
    },
    {
      "cell_type": "code",
      "metadata": {
        "id": "Tl73AXw-32Fg",
        "outputId": "a87b824a-a960-472e-d226-9dc57d01cdd3"
      },
      "source": [
        "spa_eng"
      ],
      "execution_count": 12,
      "outputs": [
        {
          "output_type": "execute_result",
          "data": {
            "text/plain": [
              "array([['go', 've',\n",
              "        'CC-BY 2.0 (France) Attribution: tatoeba.org #2877272 (CM) & #4986655 (cueyayotl)'],\n",
              "       ['go', 'vete',\n",
              "        'CC-BY 2.0 (France) Attribution: tatoeba.org #2877272 (CM) & #4986656 (cueyayotl)'],\n",
              "       ['go', 'vaya',\n",
              "        'CC-BY 2.0 (France) Attribution: tatoeba.org #2877272 (CM) & #4986657 (cueyayotl)'],\n",
              "       ...,\n",
              "       ['i weigh 58 kilograms', 'peso 58 kilogramos',\n",
              "        'CC-BY 2.0 (France) Attribution: tatoeba.org #1689840 (mookeee) & #1690643 (marcelostockle)'],\n",
              "       ['i went into the army', 'me uní al ejército',\n",
              "        'CC-BY 2.0 (France) Attribution: tatoeba.org #262188 (CK) & #1781379 (marcelostockle)'],\n",
              "       ['i went into the navy', 'me fui a la marina',\n",
              "        'CC-BY 2.0 (France) Attribution: tatoeba.org #256592 (CK) & #5566661 (swyter)']],\n",
              "      dtype='<U332')"
            ]
          },
          "metadata": {},
          "execution_count": 12
        }
      ]
    },
    {
      "cell_type": "markdown",
      "metadata": {
        "id": "CExKY92Y32Fh"
      },
      "source": [
        "#### Text to Sequence Conversion\n",
        "\n",
        "To feed our data in a Seq2Seq model, we will have to convert both the input and the output sentences into integer sequences of fixed length. Before that, let's visualise the length of the sentences. We will capture the lengths of all the sentences in two separate lists for English and German, respectively."
      ]
    },
    {
      "cell_type": "code",
      "metadata": {
        "id": "xRVEIM_p32Fh"
      },
      "source": [
        "# empty lists\n",
        "eng_l = []\n",
        "spa_l = []\n",
        "\n",
        "# populate the lists with sentence lengths\n",
        "for i in spa_eng[:,0]:\n",
        "    eng_l.append(len(i.split()))\n",
        "\n",
        "for i in spa_eng[:,1]:\n",
        "    spa_l.append(len(i.split()))"
      ],
      "execution_count": 13,
      "outputs": []
    },
    {
      "cell_type": "code",
      "metadata": {
        "id": "hrIAcU5R32Fh",
        "outputId": "f9026132-6a96-4818-a9d0-958de7eab742"
      },
      "source": [
        "length_df = pd.DataFrame({'eng':eng_l, 'spa':spa_l})\n",
        "print(length_df)\n",
        "print(max(length_df.eng))\n",
        "print(max(length_df.spa))"
      ],
      "execution_count": 14,
      "outputs": [
        {
          "output_type": "stream",
          "name": "stdout",
          "text": [
            "       eng  spa\n0        1    1\n1        1    1\n2        1    1\n3        1    1\n4        1    1\n...    ...  ...\n24995    5    5\n24996    4    4\n24997    4    3\n24998    5    4\n24999    5    5\n\n[25000 rows x 2 columns]\n7\n12\n"
          ]
        }
      ]
    },
    {
      "cell_type": "code",
      "metadata": {
        "id": "JUxMJ9Ox32Fi",
        "outputId": "4c5a163d-ea05-4595-8162-099adf588dbc"
      },
      "source": [
        "length_df.hist(bins = 30)\n",
        "plt.show()"
      ],
      "execution_count": 15,
      "outputs": [
        {
          "output_type": "stream",
          "name": "stderr",
          "text": [
            "/home/aromo/anaconda3/envs/gpu/lib/python3.7/site-packages/pandas/plotting/_matplotlib/tools.py:331: MatplotlibDeprecationWarning: \nThe is_first_col function was deprecated in Matplotlib 3.4 and will be removed two minor releases later. Use ax.get_subplotspec().is_first_col() instead.\n  if ax.is_first_col():\n"
          ]
        },
        {
          "output_type": "display_data",
          "data": {
            "text/plain": "<Figure size 432x288 with 2 Axes>",
            "image/svg+xml": "<?xml version=\"1.0\" encoding=\"utf-8\" standalone=\"no\"?>\n<!DOCTYPE svg PUBLIC \"-//W3C//DTD SVG 1.1//EN\"\n  \"http://www.w3.org/Graphics/SVG/1.1/DTD/svg11.dtd\">\n<svg height=\"263.63625pt\" version=\"1.1\" viewBox=\"0 0 388.0125 263.63625\" width=\"388.0125pt\" xmlns=\"http://www.w3.org/2000/svg\" xmlns:xlink=\"http://www.w3.org/1999/xlink\">\n <metadata>\n  <rdf:RDF xmlns:cc=\"http://creativecommons.org/ns#\" xmlns:dc=\"http://purl.org/dc/elements/1.1/\" xmlns:rdf=\"http://www.w3.org/1999/02/22-rdf-syntax-ns#\">\n   <cc:Work>\n    <dc:type rdf:resource=\"http://purl.org/dc/dcmitype/StillImage\"/>\n    <dc:date>2021-05-15T17:28:00.767656</dc:date>\n    <dc:format>image/svg+xml</dc:format>\n    <dc:creator>\n     <cc:Agent>\n      <dc:title>Matplotlib v3.4.2, https://matplotlib.org/</dc:title>\n     </cc:Agent>\n    </dc:creator>\n   </cc:Work>\n  </rdf:RDF>\n </metadata>\n <defs>\n  <style type=\"text/css\">*{stroke-linecap:butt;stroke-linejoin:round;}</style>\n </defs>\n <g id=\"figure_1\">\n  <g id=\"patch_1\">\n   <path d=\"M 0 263.63625 \nL 388.0125 263.63625 \nL 388.0125 0 \nL 0 0 \nz\n\" style=\"fill:none;\"/>\n  </g>\n  <g id=\"axes_1\">\n   <g id=\"patch_2\">\n    <path d=\"M 46.0125 239.758125 \nL 191.577717 239.758125 \nL 191.577717 22.318125 \nL 46.0125 22.318125 \nz\n\" style=\"fill:#ffffff;\"/>\n   </g>\n   <g id=\"patch_3\">\n    <path clip-path=\"url(#p65d13d9f75)\" d=\"M 52.629101 239.758125 \nL 57.040168 239.758125 \nL 57.040168 238.51099 \nL 52.629101 238.51099 \nz\n\" style=\"fill:#1f77b4;\"/>\n   </g>\n   <g id=\"patch_4\">\n    <path clip-path=\"url(#p65d13d9f75)\" d=\"M 57.040168 239.758125 \nL 61.451235 239.758125 \nL 61.451235 239.758125 \nL 57.040168 239.758125 \nz\n\" style=\"fill:#1f77b4;\"/>\n   </g>\n   <g id=\"patch_5\">\n    <path clip-path=\"url(#p65d13d9f75)\" d=\"M 61.451235 239.758125 \nL 65.862302 239.758125 \nL 65.862302 239.758125 \nL 61.451235 239.758125 \nz\n\" style=\"fill:#1f77b4;\"/>\n   </g>\n   <g id=\"patch_6\">\n    <path clip-path=\"url(#p65d13d9f75)\" d=\"M 65.862302 239.758125 \nL 70.27337 239.758125 \nL 70.27337 239.758125 \nL 65.862302 239.758125 \nz\n\" style=\"fill:#1f77b4;\"/>\n   </g>\n   <g id=\"patch_7\">\n    <path clip-path=\"url(#p65d13d9f75)\" d=\"M 70.27337 239.758125 \nL 74.684437 239.758125 \nL 74.684437 239.758125 \nL 70.27337 239.758125 \nz\n\" style=\"fill:#1f77b4;\"/>\n   </g>\n   <g id=\"patch_8\">\n    <path clip-path=\"url(#p65d13d9f75)\" d=\"M 74.684437 239.758125 \nL 79.095504 239.758125 \nL 79.095504 179.568536 \nL 74.684437 179.568536 \nz\n\" style=\"fill:#1f77b4;\"/>\n   </g>\n   <g id=\"patch_9\">\n    <path clip-path=\"url(#p65d13d9f75)\" d=\"M 79.095504 239.758125 \nL 83.506571 239.758125 \nL 83.506571 239.758125 \nL 79.095504 239.758125 \nz\n\" style=\"fill:#1f77b4;\"/>\n   </g>\n   <g id=\"patch_10\">\n    <path clip-path=\"url(#p65d13d9f75)\" d=\"M 83.506571 239.758125 \nL 87.917638 239.758125 \nL 87.917638 239.758125 \nL 83.506571 239.758125 \nz\n\" style=\"fill:#1f77b4;\"/>\n   </g>\n   <g id=\"patch_11\">\n    <path clip-path=\"url(#p65d13d9f75)\" d=\"M 87.917638 239.758125 \nL 92.328706 239.758125 \nL 92.328706 239.758125 \nL 87.917638 239.758125 \nz\n\" style=\"fill:#1f77b4;\"/>\n   </g>\n   <g id=\"patch_12\">\n    <path clip-path=\"url(#p65d13d9f75)\" d=\"M 92.328706 239.758125 \nL 96.739773 239.758125 \nL 96.739773 239.758125 \nL 92.328706 239.758125 \nz\n\" style=\"fill:#1f77b4;\"/>\n   </g>\n   <g id=\"patch_13\">\n    <path clip-path=\"url(#p65d13d9f75)\" d=\"M 96.739773 239.758125 \nL 101.15084 239.758125 \nL 101.15084 59.209804 \nL 96.739773 59.209804 \nz\n\" style=\"fill:#1f77b4;\"/>\n   </g>\n   <g id=\"patch_14\">\n    <path clip-path=\"url(#p65d13d9f75)\" d=\"M 101.15084 239.758125 \nL 105.561907 239.758125 \nL 105.561907 239.758125 \nL 101.15084 239.758125 \nz\n\" style=\"fill:#1f77b4;\"/>\n   </g>\n   <g id=\"patch_15\">\n    <path clip-path=\"url(#p65d13d9f75)\" d=\"M 105.561907 239.758125 \nL 109.972974 239.758125 \nL 109.972974 239.758125 \nL 105.561907 239.758125 \nz\n\" style=\"fill:#1f77b4;\"/>\n   </g>\n   <g id=\"patch_16\">\n    <path clip-path=\"url(#p65d13d9f75)\" d=\"M 109.972974 239.758125 \nL 114.384042 239.758125 \nL 114.384042 239.758125 \nL 109.972974 239.758125 \nz\n\" style=\"fill:#1f77b4;\"/>\n   </g>\n   <g id=\"patch_17\">\n    <path clip-path=\"url(#p65d13d9f75)\" d=\"M 114.384042 239.758125 \nL 118.795109 239.758125 \nL 118.795109 239.758125 \nL 114.384042 239.758125 \nz\n\" style=\"fill:#1f77b4;\"/>\n   </g>\n   <g id=\"patch_18\">\n    <path clip-path=\"url(#p65d13d9f75)\" d=\"M 118.795109 239.758125 \nL 123.206176 239.758125 \nL 123.206176 32.672411 \nL 118.795109 32.672411 \nz\n\" style=\"fill:#1f77b4;\"/>\n   </g>\n   <g id=\"patch_19\">\n    <path clip-path=\"url(#p65d13d9f75)\" d=\"M 123.206176 239.758125 \nL 127.617243 239.758125 \nL 127.617243 239.758125 \nL 123.206176 239.758125 \nz\n\" style=\"fill:#1f77b4;\"/>\n   </g>\n   <g id=\"patch_20\">\n    <path clip-path=\"url(#p65d13d9f75)\" d=\"M 127.617243 239.758125 \nL 132.02831 239.758125 \nL 132.02831 239.758125 \nL 127.617243 239.758125 \nz\n\" style=\"fill:#1f77b4;\"/>\n   </g>\n   <g id=\"patch_21\">\n    <path clip-path=\"url(#p65d13d9f75)\" d=\"M 132.02831 239.758125 \nL 136.439377 239.758125 \nL 136.439377 239.758125 \nL 132.02831 239.758125 \nz\n\" style=\"fill:#1f77b4;\"/>\n   </g>\n   <g id=\"patch_22\">\n    <path clip-path=\"url(#p65d13d9f75)\" d=\"M 136.439377 239.758125 \nL 140.850445 239.758125 \nL 140.850445 239.758125 \nL 136.439377 239.758125 \nz\n\" style=\"fill:#1f77b4;\"/>\n   </g>\n   <g id=\"patch_23\">\n    <path clip-path=\"url(#p65d13d9f75)\" d=\"M 140.850445 239.758125 \nL 145.261512 239.758125 \nL 145.261512 180.284106 \nL 140.850445 180.284106 \nz\n\" style=\"fill:#1f77b4;\"/>\n   </g>\n   <g id=\"patch_24\">\n    <path clip-path=\"url(#p65d13d9f75)\" d=\"M 145.261512 239.758125 \nL 149.672579 239.758125 \nL 149.672579 239.758125 \nL 145.261512 239.758125 \nz\n\" style=\"fill:#1f77b4;\"/>\n   </g>\n   <g id=\"patch_25\">\n    <path clip-path=\"url(#p65d13d9f75)\" d=\"M 149.672579 239.758125 \nL 154.083646 239.758125 \nL 154.083646 239.758125 \nL 149.672579 239.758125 \nz\n\" style=\"fill:#1f77b4;\"/>\n   </g>\n   <g id=\"patch_26\">\n    <path clip-path=\"url(#p65d13d9f75)\" d=\"M 154.083646 239.758125 \nL 158.494713 239.758125 \nL 158.494713 239.758125 \nL 154.083646 239.758125 \nz\n\" style=\"fill:#1f77b4;\"/>\n   </g>\n   <g id=\"patch_27\">\n    <path clip-path=\"url(#p65d13d9f75)\" d=\"M 158.494713 239.758125 \nL 162.905781 239.758125 \nL 162.905781 239.758125 \nL 158.494713 239.758125 \nz\n\" style=\"fill:#1f77b4;\"/>\n   </g>\n   <g id=\"patch_28\">\n    <path clip-path=\"url(#p65d13d9f75)\" d=\"M 162.905781 239.758125 \nL 167.316848 239.758125 \nL 167.316848 237.202521 \nL 162.905781 237.202521 \nz\n\" style=\"fill:#1f77b4;\"/>\n   </g>\n   <g id=\"patch_29\">\n    <path clip-path=\"url(#p65d13d9f75)\" d=\"M 167.316848 239.758125 \nL 171.727915 239.758125 \nL 171.727915 239.758125 \nL 167.316848 239.758125 \nz\n\" style=\"fill:#1f77b4;\"/>\n   </g>\n   <g id=\"patch_30\">\n    <path clip-path=\"url(#p65d13d9f75)\" d=\"M 171.727915 239.758125 \nL 176.138982 239.758125 \nL 176.138982 239.758125 \nL 171.727915 239.758125 \nz\n\" style=\"fill:#1f77b4;\"/>\n   </g>\n   <g id=\"patch_31\">\n    <path clip-path=\"url(#p65d13d9f75)\" d=\"M 176.138982 239.758125 \nL 180.550049 239.758125 \nL 180.550049 239.758125 \nL 176.138982 239.758125 \nz\n\" style=\"fill:#1f77b4;\"/>\n   </g>\n   <g id=\"patch_32\">\n    <path clip-path=\"url(#p65d13d9f75)\" d=\"M 180.550049 239.758125 \nL 184.961117 239.758125 \nL 184.961117 239.73768 \nL 180.550049 239.73768 \nz\n\" style=\"fill:#1f77b4;\"/>\n   </g>\n   <g id=\"matplotlib.axis_1\">\n    <g id=\"xtick_1\">\n     <g id=\"line2d_1\">\n      <path clip-path=\"url(#p65d13d9f75)\" d=\"M 74.684437 239.758125 \nL 74.684437 22.318125 \n\" style=\"fill:none;stroke:#b0b0b0;stroke-linecap:square;stroke-width:0.8;\"/>\n     </g>\n     <g id=\"line2d_2\">\n      <defs>\n       <path d=\"M 0 0 \nL 0 3.5 \n\" id=\"m05ffa015d2\" style=\"stroke:#000000;stroke-width:0.8;\"/>\n      </defs>\n      <g>\n       <use style=\"stroke:#000000;stroke-width:0.8;\" x=\"74.684437\" xlink:href=\"#m05ffa015d2\" y=\"239.758125\"/>\n      </g>\n     </g>\n     <g id=\"text_1\">\n      <!-- 2 -->\n      <g transform=\"translate(71.503187 254.356563)scale(0.1 -0.1)\">\n       <defs>\n        <path d=\"M 1228 531 \nL 3431 531 \nL 3431 0 \nL 469 0 \nL 469 531 \nQ 828 903 1448 1529 \nQ 2069 2156 2228 2338 \nQ 2531 2678 2651 2914 \nQ 2772 3150 2772 3378 \nQ 2772 3750 2511 3984 \nQ 2250 4219 1831 4219 \nQ 1534 4219 1204 4116 \nQ 875 4013 500 3803 \nL 500 4441 \nQ 881 4594 1212 4672 \nQ 1544 4750 1819 4750 \nQ 2544 4750 2975 4387 \nQ 3406 4025 3406 3419 \nQ 3406 3131 3298 2873 \nQ 3191 2616 2906 2266 \nQ 2828 2175 2409 1742 \nQ 1991 1309 1228 531 \nz\n\" id=\"DejaVuSans-32\" transform=\"scale(0.015625)\"/>\n       </defs>\n       <use xlink:href=\"#DejaVuSans-32\"/>\n      </g>\n     </g>\n    </g>\n    <g id=\"xtick_2\">\n     <g id=\"line2d_3\">\n      <path clip-path=\"url(#p65d13d9f75)\" d=\"M 118.795109 239.758125 \nL 118.795109 22.318125 \n\" style=\"fill:none;stroke:#b0b0b0;stroke-linecap:square;stroke-width:0.8;\"/>\n     </g>\n     <g id=\"line2d_4\">\n      <g>\n       <use style=\"stroke:#000000;stroke-width:0.8;\" x=\"118.795109\" xlink:href=\"#m05ffa015d2\" y=\"239.758125\"/>\n      </g>\n     </g>\n     <g id=\"text_2\">\n      <!-- 4 -->\n      <g transform=\"translate(115.613859 254.356563)scale(0.1 -0.1)\">\n       <defs>\n        <path d=\"M 2419 4116 \nL 825 1625 \nL 2419 1625 \nL 2419 4116 \nz\nM 2253 4666 \nL 3047 4666 \nL 3047 1625 \nL 3713 1625 \nL 3713 1100 \nL 3047 1100 \nL 3047 0 \nL 2419 0 \nL 2419 1100 \nL 313 1100 \nL 313 1709 \nL 2253 4666 \nz\n\" id=\"DejaVuSans-34\" transform=\"scale(0.015625)\"/>\n       </defs>\n       <use xlink:href=\"#DejaVuSans-34\"/>\n      </g>\n     </g>\n    </g>\n    <g id=\"xtick_3\">\n     <g id=\"line2d_5\">\n      <path clip-path=\"url(#p65d13d9f75)\" d=\"M 162.905781 239.758125 \nL 162.905781 22.318125 \n\" style=\"fill:none;stroke:#b0b0b0;stroke-linecap:square;stroke-width:0.8;\"/>\n     </g>\n     <g id=\"line2d_6\">\n      <g>\n       <use style=\"stroke:#000000;stroke-width:0.8;\" x=\"162.905781\" xlink:href=\"#m05ffa015d2\" y=\"239.758125\"/>\n      </g>\n     </g>\n     <g id=\"text_3\">\n      <!-- 6 -->\n      <g transform=\"translate(159.724531 254.356563)scale(0.1 -0.1)\">\n       <defs>\n        <path d=\"M 2113 2584 \nQ 1688 2584 1439 2293 \nQ 1191 2003 1191 1497 \nQ 1191 994 1439 701 \nQ 1688 409 2113 409 \nQ 2538 409 2786 701 \nQ 3034 994 3034 1497 \nQ 3034 2003 2786 2293 \nQ 2538 2584 2113 2584 \nz\nM 3366 4563 \nL 3366 3988 \nQ 3128 4100 2886 4159 \nQ 2644 4219 2406 4219 \nQ 1781 4219 1451 3797 \nQ 1122 3375 1075 2522 \nQ 1259 2794 1537 2939 \nQ 1816 3084 2150 3084 \nQ 2853 3084 3261 2657 \nQ 3669 2231 3669 1497 \nQ 3669 778 3244 343 \nQ 2819 -91 2113 -91 \nQ 1303 -91 875 529 \nQ 447 1150 447 2328 \nQ 447 3434 972 4092 \nQ 1497 4750 2381 4750 \nQ 2619 4750 2861 4703 \nQ 3103 4656 3366 4563 \nz\n\" id=\"DejaVuSans-36\" transform=\"scale(0.015625)\"/>\n       </defs>\n       <use xlink:href=\"#DejaVuSans-36\"/>\n      </g>\n     </g>\n    </g>\n   </g>\n   <g id=\"matplotlib.axis_2\">\n    <g id=\"ytick_1\">\n     <g id=\"line2d_7\">\n      <path clip-path=\"url(#p65d13d9f75)\" d=\"M 46.0125 239.758125 \nL 191.577717 239.758125 \n\" style=\"fill:none;stroke:#b0b0b0;stroke-linecap:square;stroke-width:0.8;\"/>\n     </g>\n     <g id=\"line2d_8\">\n      <defs>\n       <path d=\"M 0 0 \nL -3.5 0 \n\" id=\"m3c1b1f5c4b\" style=\"stroke:#000000;stroke-width:0.8;\"/>\n      </defs>\n      <g>\n       <use style=\"stroke:#000000;stroke-width:0.8;\" x=\"46.0125\" xlink:href=\"#m3c1b1f5c4b\" y=\"239.758125\"/>\n      </g>\n     </g>\n     <g id=\"text_4\">\n      <!-- 0 -->\n      <g transform=\"translate(32.65 243.557344)scale(0.1 -0.1)\">\n       <defs>\n        <path d=\"M 2034 4250 \nQ 1547 4250 1301 3770 \nQ 1056 3291 1056 2328 \nQ 1056 1369 1301 889 \nQ 1547 409 2034 409 \nQ 2525 409 2770 889 \nQ 3016 1369 3016 2328 \nQ 3016 3291 2770 3770 \nQ 2525 4250 2034 4250 \nz\nM 2034 4750 \nQ 2819 4750 3233 4129 \nQ 3647 3509 3647 2328 \nQ 3647 1150 3233 529 \nQ 2819 -91 2034 -91 \nQ 1250 -91 836 529 \nQ 422 1150 422 2328 \nQ 422 3509 836 4129 \nQ 1250 4750 2034 4750 \nz\n\" id=\"DejaVuSans-30\" transform=\"scale(0.015625)\"/>\n       </defs>\n       <use xlink:href=\"#DejaVuSans-30\"/>\n      </g>\n     </g>\n    </g>\n    <g id=\"ytick_2\">\n     <g id=\"line2d_9\">\n      <path clip-path=\"url(#p65d13d9f75)\" d=\"M 46.0125 198.868459 \nL 191.577717 198.868459 \n\" style=\"fill:none;stroke:#b0b0b0;stroke-linecap:square;stroke-width:0.8;\"/>\n     </g>\n     <g id=\"line2d_10\">\n      <g>\n       <use style=\"stroke:#000000;stroke-width:0.8;\" x=\"46.0125\" xlink:href=\"#m3c1b1f5c4b\" y=\"198.868459\"/>\n      </g>\n     </g>\n     <g id=\"text_5\">\n      <!-- 2000 -->\n      <g transform=\"translate(13.5625 202.667678)scale(0.1 -0.1)\">\n       <use xlink:href=\"#DejaVuSans-32\"/>\n       <use x=\"63.623047\" xlink:href=\"#DejaVuSans-30\"/>\n       <use x=\"127.246094\" xlink:href=\"#DejaVuSans-30\"/>\n       <use x=\"190.869141\" xlink:href=\"#DejaVuSans-30\"/>\n      </g>\n     </g>\n    </g>\n    <g id=\"ytick_3\">\n     <g id=\"line2d_11\">\n      <path clip-path=\"url(#p65d13d9f75)\" d=\"M 46.0125 157.978793 \nL 191.577717 157.978793 \n\" style=\"fill:none;stroke:#b0b0b0;stroke-linecap:square;stroke-width:0.8;\"/>\n     </g>\n     <g id=\"line2d_12\">\n      <g>\n       <use style=\"stroke:#000000;stroke-width:0.8;\" x=\"46.0125\" xlink:href=\"#m3c1b1f5c4b\" y=\"157.978793\"/>\n      </g>\n     </g>\n     <g id=\"text_6\">\n      <!-- 4000 -->\n      <g transform=\"translate(13.5625 161.778011)scale(0.1 -0.1)\">\n       <use xlink:href=\"#DejaVuSans-34\"/>\n       <use x=\"63.623047\" xlink:href=\"#DejaVuSans-30\"/>\n       <use x=\"127.246094\" xlink:href=\"#DejaVuSans-30\"/>\n       <use x=\"190.869141\" xlink:href=\"#DejaVuSans-30\"/>\n      </g>\n     </g>\n    </g>\n    <g id=\"ytick_4\">\n     <g id=\"line2d_13\">\n      <path clip-path=\"url(#p65d13d9f75)\" d=\"M 46.0125 117.089127 \nL 191.577717 117.089127 \n\" style=\"fill:none;stroke:#b0b0b0;stroke-linecap:square;stroke-width:0.8;\"/>\n     </g>\n     <g id=\"line2d_14\">\n      <g>\n       <use style=\"stroke:#000000;stroke-width:0.8;\" x=\"46.0125\" xlink:href=\"#m3c1b1f5c4b\" y=\"117.089127\"/>\n      </g>\n     </g>\n     <g id=\"text_7\">\n      <!-- 6000 -->\n      <g transform=\"translate(13.5625 120.888345)scale(0.1 -0.1)\">\n       <use xlink:href=\"#DejaVuSans-36\"/>\n       <use x=\"63.623047\" xlink:href=\"#DejaVuSans-30\"/>\n       <use x=\"127.246094\" xlink:href=\"#DejaVuSans-30\"/>\n       <use x=\"190.869141\" xlink:href=\"#DejaVuSans-30\"/>\n      </g>\n     </g>\n    </g>\n    <g id=\"ytick_5\">\n     <g id=\"line2d_15\">\n      <path clip-path=\"url(#p65d13d9f75)\" d=\"M 46.0125 76.19946 \nL 191.577717 76.19946 \n\" style=\"fill:none;stroke:#b0b0b0;stroke-linecap:square;stroke-width:0.8;\"/>\n     </g>\n     <g id=\"line2d_16\">\n      <g>\n       <use style=\"stroke:#000000;stroke-width:0.8;\" x=\"46.0125\" xlink:href=\"#m3c1b1f5c4b\" y=\"76.19946\"/>\n      </g>\n     </g>\n     <g id=\"text_8\">\n      <!-- 8000 -->\n      <g transform=\"translate(13.5625 79.998679)scale(0.1 -0.1)\">\n       <defs>\n        <path d=\"M 2034 2216 \nQ 1584 2216 1326 1975 \nQ 1069 1734 1069 1313 \nQ 1069 891 1326 650 \nQ 1584 409 2034 409 \nQ 2484 409 2743 651 \nQ 3003 894 3003 1313 \nQ 3003 1734 2745 1975 \nQ 2488 2216 2034 2216 \nz\nM 1403 2484 \nQ 997 2584 770 2862 \nQ 544 3141 544 3541 \nQ 544 4100 942 4425 \nQ 1341 4750 2034 4750 \nQ 2731 4750 3128 4425 \nQ 3525 4100 3525 3541 \nQ 3525 3141 3298 2862 \nQ 3072 2584 2669 2484 \nQ 3125 2378 3379 2068 \nQ 3634 1759 3634 1313 \nQ 3634 634 3220 271 \nQ 2806 -91 2034 -91 \nQ 1263 -91 848 271 \nQ 434 634 434 1313 \nQ 434 1759 690 2068 \nQ 947 2378 1403 2484 \nz\nM 1172 3481 \nQ 1172 3119 1398 2916 \nQ 1625 2713 2034 2713 \nQ 2441 2713 2670 2916 \nQ 2900 3119 2900 3481 \nQ 2900 3844 2670 4047 \nQ 2441 4250 2034 4250 \nQ 1625 4250 1398 4047 \nQ 1172 3844 1172 3481 \nz\n\" id=\"DejaVuSans-38\" transform=\"scale(0.015625)\"/>\n       </defs>\n       <use xlink:href=\"#DejaVuSans-38\"/>\n       <use x=\"63.623047\" xlink:href=\"#DejaVuSans-30\"/>\n       <use x=\"127.246094\" xlink:href=\"#DejaVuSans-30\"/>\n       <use x=\"190.869141\" xlink:href=\"#DejaVuSans-30\"/>\n      </g>\n     </g>\n    </g>\n    <g id=\"ytick_6\">\n     <g id=\"line2d_17\">\n      <path clip-path=\"url(#p65d13d9f75)\" d=\"M 46.0125 35.309794 \nL 191.577717 35.309794 \n\" style=\"fill:none;stroke:#b0b0b0;stroke-linecap:square;stroke-width:0.8;\"/>\n     </g>\n     <g id=\"line2d_18\">\n      <g>\n       <use style=\"stroke:#000000;stroke-width:0.8;\" x=\"46.0125\" xlink:href=\"#m3c1b1f5c4b\" y=\"35.309794\"/>\n      </g>\n     </g>\n     <g id=\"text_9\">\n      <!-- 10000 -->\n      <g transform=\"translate(7.2 39.109013)scale(0.1 -0.1)\">\n       <defs>\n        <path d=\"M 794 531 \nL 1825 531 \nL 1825 4091 \nL 703 3866 \nL 703 4441 \nL 1819 4666 \nL 2450 4666 \nL 2450 531 \nL 3481 531 \nL 3481 0 \nL 794 0 \nL 794 531 \nz\n\" id=\"DejaVuSans-31\" transform=\"scale(0.015625)\"/>\n       </defs>\n       <use xlink:href=\"#DejaVuSans-31\"/>\n       <use x=\"63.623047\" xlink:href=\"#DejaVuSans-30\"/>\n       <use x=\"127.246094\" xlink:href=\"#DejaVuSans-30\"/>\n       <use x=\"190.869141\" xlink:href=\"#DejaVuSans-30\"/>\n       <use x=\"254.492188\" xlink:href=\"#DejaVuSans-30\"/>\n      </g>\n     </g>\n    </g>\n   </g>\n   <g id=\"patch_33\">\n    <path d=\"M 46.0125 239.758125 \nL 46.0125 22.318125 \n\" style=\"fill:none;stroke:#000000;stroke-linecap:square;stroke-linejoin:miter;stroke-width:0.8;\"/>\n   </g>\n   <g id=\"patch_34\">\n    <path d=\"M 191.577717 239.758125 \nL 191.577717 22.318125 \n\" style=\"fill:none;stroke:#000000;stroke-linecap:square;stroke-linejoin:miter;stroke-width:0.8;\"/>\n   </g>\n   <g id=\"patch_35\">\n    <path d=\"M 46.0125 239.758125 \nL 191.577717 239.758125 \n\" style=\"fill:none;stroke:#000000;stroke-linecap:square;stroke-linejoin:miter;stroke-width:0.8;\"/>\n   </g>\n   <g id=\"patch_36\">\n    <path d=\"M 46.0125 22.318125 \nL 191.577717 22.318125 \n\" style=\"fill:none;stroke:#000000;stroke-linecap:square;stroke-linejoin:miter;stroke-width:0.8;\"/>\n   </g>\n   <g id=\"text_10\">\n    <!-- eng -->\n    <g transform=\"translate(107.491671 16.318125)scale(0.12 -0.12)\">\n     <defs>\n      <path d=\"M 3597 1894 \nL 3597 1613 \nL 953 1613 \nQ 991 1019 1311 708 \nQ 1631 397 2203 397 \nQ 2534 397 2845 478 \nQ 3156 559 3463 722 \nL 3463 178 \nQ 3153 47 2828 -22 \nQ 2503 -91 2169 -91 \nQ 1331 -91 842 396 \nQ 353 884 353 1716 \nQ 353 2575 817 3079 \nQ 1281 3584 2069 3584 \nQ 2775 3584 3186 3129 \nQ 3597 2675 3597 1894 \nz\nM 3022 2063 \nQ 3016 2534 2758 2815 \nQ 2500 3097 2075 3097 \nQ 1594 3097 1305 2825 \nQ 1016 2553 972 2059 \nL 3022 2063 \nz\n\" id=\"DejaVuSans-65\" transform=\"scale(0.015625)\"/>\n      <path d=\"M 3513 2113 \nL 3513 0 \nL 2938 0 \nL 2938 2094 \nQ 2938 2591 2744 2837 \nQ 2550 3084 2163 3084 \nQ 1697 3084 1428 2787 \nQ 1159 2491 1159 1978 \nL 1159 0 \nL 581 0 \nL 581 3500 \nL 1159 3500 \nL 1159 2956 \nQ 1366 3272 1645 3428 \nQ 1925 3584 2291 3584 \nQ 2894 3584 3203 3211 \nQ 3513 2838 3513 2113 \nz\n\" id=\"DejaVuSans-6e\" transform=\"scale(0.015625)\"/>\n      <path d=\"M 2906 1791 \nQ 2906 2416 2648 2759 \nQ 2391 3103 1925 3103 \nQ 1463 3103 1205 2759 \nQ 947 2416 947 1791 \nQ 947 1169 1205 825 \nQ 1463 481 1925 481 \nQ 2391 481 2648 825 \nQ 2906 1169 2906 1791 \nz\nM 3481 434 \nQ 3481 -459 3084 -895 \nQ 2688 -1331 1869 -1331 \nQ 1566 -1331 1297 -1286 \nQ 1028 -1241 775 -1147 \nL 775 -588 \nQ 1028 -725 1275 -790 \nQ 1522 -856 1778 -856 \nQ 2344 -856 2625 -561 \nQ 2906 -266 2906 331 \nL 2906 616 \nQ 2728 306 2450 153 \nQ 2172 0 1784 0 \nQ 1141 0 747 490 \nQ 353 981 353 1791 \nQ 353 2603 747 3093 \nQ 1141 3584 1784 3584 \nQ 2172 3584 2450 3431 \nQ 2728 3278 2906 2969 \nL 2906 3500 \nL 3481 3500 \nL 3481 434 \nz\n\" id=\"DejaVuSans-67\" transform=\"scale(0.015625)\"/>\n     </defs>\n     <use xlink:href=\"#DejaVuSans-65\"/>\n     <use x=\"61.523438\" xlink:href=\"#DejaVuSans-6e\"/>\n     <use x=\"124.902344\" xlink:href=\"#DejaVuSans-67\"/>\n    </g>\n   </g>\n  </g>\n  <g id=\"axes_2\">\n   <g id=\"patch_37\">\n    <path d=\"M 235.247283 239.758125 \nL 380.8125 239.758125 \nL 380.8125 22.318125 \nL 235.247283 22.318125 \nz\n\" style=\"fill:#ffffff;\"/>\n   </g>\n   <g id=\"patch_38\">\n    <path clip-path=\"url(#p41f91efa4e)\" d=\"M 241.863883 239.758125 \nL 246.274951 239.758125 \nL 246.274951 223.63768 \nL 241.863883 223.63768 \nz\n\" style=\"fill:#1f77b4;\"/>\n   </g>\n   <g id=\"patch_39\">\n    <path clip-path=\"url(#p41f91efa4e)\" d=\"M 246.274951 239.758125 \nL 250.686018 239.758125 \nL 250.686018 239.758125 \nL 246.274951 239.758125 \nz\n\" style=\"fill:#1f77b4;\"/>\n   </g>\n   <g id=\"patch_40\">\n    <path clip-path=\"url(#p41f91efa4e)\" d=\"M 250.686018 239.758125 \nL 255.097085 239.758125 \nL 255.097085 138.075319 \nL 250.686018 138.075319 \nz\n\" style=\"fill:#1f77b4;\"/>\n   </g>\n   <g id=\"patch_41\">\n    <path clip-path=\"url(#p41f91efa4e)\" d=\"M 255.097085 239.758125 \nL 259.508152 239.758125 \nL 259.508152 239.758125 \nL 255.097085 239.758125 \nz\n\" style=\"fill:#1f77b4;\"/>\n   </g>\n   <g id=\"patch_42\">\n    <path clip-path=\"url(#p41f91efa4e)\" d=\"M 259.508152 239.758125 \nL 263.919219 239.758125 \nL 263.919219 239.758125 \nL 259.508152 239.758125 \nz\n\" style=\"fill:#1f77b4;\"/>\n   </g>\n   <g id=\"patch_43\">\n    <path clip-path=\"url(#p41f91efa4e)\" d=\"M 263.919219 239.758125 \nL 268.330287 239.758125 \nL 268.330287 32.672411 \nL 263.919219 32.672411 \nz\n\" style=\"fill:#1f77b4;\"/>\n   </g>\n   <g id=\"patch_44\">\n    <path clip-path=\"url(#p41f91efa4e)\" d=\"M 268.330287 239.758125 \nL 272.741354 239.758125 \nL 272.741354 239.758125 \nL 268.330287 239.758125 \nz\n\" style=\"fill:#1f77b4;\"/>\n   </g>\n   <g id=\"patch_45\">\n    <path clip-path=\"url(#p41f91efa4e)\" d=\"M 272.741354 239.758125 \nL 277.152421 239.758125 \nL 277.152421 239.758125 \nL 272.741354 239.758125 \nz\n\" style=\"fill:#1f77b4;\"/>\n   </g>\n   <g id=\"patch_46\">\n    <path clip-path=\"url(#p41f91efa4e)\" d=\"M 277.152421 239.758125 \nL 281.563488 239.758125 \nL 281.563488 64.679332 \nL 277.152421 64.679332 \nz\n\" style=\"fill:#1f77b4;\"/>\n   </g>\n   <g id=\"patch_47\">\n    <path clip-path=\"url(#p41f91efa4e)\" d=\"M 281.563488 239.758125 \nL 285.974555 239.758125 \nL 285.974555 239.758125 \nL 281.563488 239.758125 \nz\n\" style=\"fill:#1f77b4;\"/>\n   </g>\n   <g id=\"patch_48\">\n    <path clip-path=\"url(#p41f91efa4e)\" d=\"M 285.974555 239.758125 \nL 290.385623 239.758125 \nL 290.385623 177.171492 \nL 285.974555 177.171492 \nz\n\" style=\"fill:#1f77b4;\"/>\n   </g>\n   <g id=\"patch_49\">\n    <path clip-path=\"url(#p41f91efa4e)\" d=\"M 290.385623 239.758125 \nL 294.79669 239.758125 \nL 294.79669 239.758125 \nL 290.385623 239.758125 \nz\n\" style=\"fill:#1f77b4;\"/>\n   </g>\n   <g id=\"patch_50\">\n    <path clip-path=\"url(#p41f91efa4e)\" d=\"M 294.79669 239.758125 \nL 299.207757 239.758125 \nL 299.207757 239.758125 \nL 294.79669 239.758125 \nz\n\" style=\"fill:#1f77b4;\"/>\n   </g>\n   <g id=\"patch_51\">\n    <path clip-path=\"url(#p41f91efa4e)\" d=\"M 299.207757 239.758125 \nL 303.618824 239.758125 \nL 303.618824 222.163677 \nL 299.207757 222.163677 \nz\n\" style=\"fill:#1f77b4;\"/>\n   </g>\n   <g id=\"patch_52\">\n    <path clip-path=\"url(#p41f91efa4e)\" d=\"M 303.618824 239.758125 \nL 308.029891 239.758125 \nL 308.029891 239.758125 \nL 303.618824 239.758125 \nz\n\" style=\"fill:#1f77b4;\"/>\n   </g>\n   <g id=\"patch_53\">\n    <path clip-path=\"url(#p41f91efa4e)\" d=\"M 308.029891 239.758125 \nL 312.440958 239.758125 \nL 312.440958 239.758125 \nL 308.029891 239.758125 \nz\n\" style=\"fill:#1f77b4;\"/>\n   </g>\n   <g id=\"patch_54\">\n    <path clip-path=\"url(#p41f91efa4e)\" d=\"M 312.440958 239.758125 \nL 316.852026 239.758125 \nL 316.852026 235.944435 \nL 312.440958 235.944435 \nz\n\" style=\"fill:#1f77b4;\"/>\n   </g>\n   <g id=\"patch_55\">\n    <path clip-path=\"url(#p41f91efa4e)\" d=\"M 316.852026 239.758125 \nL 321.263093 239.758125 \nL 321.263093 239.758125 \nL 316.852026 239.758125 \nz\n\" style=\"fill:#1f77b4;\"/>\n   </g>\n   <g id=\"patch_56\">\n    <path clip-path=\"url(#p41f91efa4e)\" d=\"M 321.263093 239.758125 \nL 325.67416 239.758125 \nL 325.67416 239.758125 \nL 321.263093 239.758125 \nz\n\" style=\"fill:#1f77b4;\"/>\n   </g>\n   <g id=\"patch_57\">\n    <path clip-path=\"url(#p41f91efa4e)\" d=\"M 325.67416 239.758125 \nL 330.085227 239.758125 \nL 330.085227 239.009425 \nL 325.67416 239.009425 \nz\n\" style=\"fill:#1f77b4;\"/>\n   </g>\n   <g id=\"patch_58\">\n    <path clip-path=\"url(#p41f91efa4e)\" d=\"M 330.085227 239.758125 \nL 334.496294 239.758125 \nL 334.496294 239.758125 \nL 330.085227 239.758125 \nz\n\" style=\"fill:#1f77b4;\"/>\n   </g>\n   <g id=\"patch_59\">\n    <path clip-path=\"url(#p41f91efa4e)\" d=\"M 334.496294 239.758125 \nL 338.907362 239.758125 \nL 338.907362 239.641141 \nL 334.496294 239.641141 \nz\n\" style=\"fill:#1f77b4;\"/>\n   </g>\n   <g id=\"patch_60\">\n    <path clip-path=\"url(#p41f91efa4e)\" d=\"M 338.907362 239.758125 \nL 343.318429 239.758125 \nL 343.318429 239.758125 \nL 338.907362 239.758125 \nz\n\" style=\"fill:#1f77b4;\"/>\n   </g>\n   <g id=\"patch_61\">\n    <path clip-path=\"url(#p41f91efa4e)\" d=\"M 343.318429 239.758125 \nL 347.729496 239.758125 \nL 347.729496 239.758125 \nL 343.318429 239.758125 \nz\n\" style=\"fill:#1f77b4;\"/>\n   </g>\n   <g id=\"patch_62\">\n    <path clip-path=\"url(#p41f91efa4e)\" d=\"M 347.729496 239.758125 \nL 352.140563 239.758125 \nL 352.140563 239.711331 \nL 347.729496 239.711331 \nz\n\" style=\"fill:#1f77b4;\"/>\n   </g>\n   <g id=\"patch_63\">\n    <path clip-path=\"url(#p41f91efa4e)\" d=\"M 352.140563 239.758125 \nL 356.55163 239.758125 \nL 356.55163 239.758125 \nL 352.140563 239.758125 \nz\n\" style=\"fill:#1f77b4;\"/>\n   </g>\n   <g id=\"patch_64\">\n    <path clip-path=\"url(#p41f91efa4e)\" d=\"M 356.55163 239.758125 \nL 360.962698 239.758125 \nL 360.962698 239.758125 \nL 356.55163 239.758125 \nz\n\" style=\"fill:#1f77b4;\"/>\n   </g>\n   <g id=\"patch_65\">\n    <path clip-path=\"url(#p41f91efa4e)\" d=\"M 360.962698 239.758125 \nL 365.373765 239.758125 \nL 365.373765 239.758125 \nL 360.962698 239.758125 \nz\n\" style=\"fill:#1f77b4;\"/>\n   </g>\n   <g id=\"patch_66\">\n    <path clip-path=\"url(#p41f91efa4e)\" d=\"M 365.373765 239.758125 \nL 369.784832 239.758125 \nL 369.784832 239.758125 \nL 365.373765 239.758125 \nz\n\" style=\"fill:#1f77b4;\"/>\n   </g>\n   <g id=\"patch_67\">\n    <path clip-path=\"url(#p41f91efa4e)\" d=\"M 369.784832 239.758125 \nL 374.195899 239.758125 \nL 374.195899 239.711331 \nL 369.784832 239.711331 \nz\n\" style=\"fill:#1f77b4;\"/>\n   </g>\n   <g id=\"matplotlib.axis_3\">\n    <g id=\"xtick_4\">\n     <g id=\"line2d_19\">\n      <path clip-path=\"url(#p41f91efa4e)\" d=\"M 289.984616 239.758125 \nL 289.984616 22.318125 \n\" style=\"fill:none;stroke:#b0b0b0;stroke-linecap:square;stroke-width:0.8;\"/>\n     </g>\n     <g id=\"line2d_20\">\n      <g>\n       <use style=\"stroke:#000000;stroke-width:0.8;\" x=\"289.984616\" xlink:href=\"#m05ffa015d2\" y=\"239.758125\"/>\n      </g>\n     </g>\n     <g id=\"text_11\">\n      <!-- 5 -->\n      <g transform=\"translate(286.803366 254.356563)scale(0.1 -0.1)\">\n       <defs>\n        <path d=\"M 691 4666 \nL 3169 4666 \nL 3169 4134 \nL 1269 4134 \nL 1269 2991 \nQ 1406 3038 1543 3061 \nQ 1681 3084 1819 3084 \nQ 2600 3084 3056 2656 \nQ 3513 2228 3513 1497 \nQ 3513 744 3044 326 \nQ 2575 -91 1722 -91 \nQ 1428 -91 1123 -41 \nQ 819 9 494 109 \nL 494 744 \nQ 775 591 1075 516 \nQ 1375 441 1709 441 \nQ 2250 441 2565 725 \nQ 2881 1009 2881 1497 \nQ 2881 1984 2565 2268 \nQ 2250 2553 1709 2553 \nQ 1456 2553 1204 2497 \nQ 953 2441 691 2322 \nL 691 4666 \nz\n\" id=\"DejaVuSans-35\" transform=\"scale(0.015625)\"/>\n       </defs>\n       <use xlink:href=\"#DejaVuSans-35\"/>\n      </g>\n     </g>\n    </g>\n    <g id=\"xtick_5\">\n     <g id=\"line2d_21\">\n      <path clip-path=\"url(#p41f91efa4e)\" d=\"M 350.135533 239.758125 \nL 350.135533 22.318125 \n\" style=\"fill:none;stroke:#b0b0b0;stroke-linecap:square;stroke-width:0.8;\"/>\n     </g>\n     <g id=\"line2d_22\">\n      <g>\n       <use style=\"stroke:#000000;stroke-width:0.8;\" x=\"350.135533\" xlink:href=\"#m05ffa015d2\" y=\"239.758125\"/>\n      </g>\n     </g>\n     <g id=\"text_12\">\n      <!-- 10 -->\n      <g transform=\"translate(343.773033 254.356563)scale(0.1 -0.1)\">\n       <use xlink:href=\"#DejaVuSans-31\"/>\n       <use x=\"63.623047\" xlink:href=\"#DejaVuSans-30\"/>\n      </g>\n     </g>\n    </g>\n   </g>\n   <g id=\"matplotlib.axis_4\">\n    <g id=\"ytick_7\">\n     <g id=\"line2d_23\">\n      <path clip-path=\"url(#p41f91efa4e)\" d=\"M 235.247283 239.758125 \nL 380.8125 239.758125 \n\" style=\"fill:none;stroke:#b0b0b0;stroke-linecap:square;stroke-width:0.8;\"/>\n     </g>\n     <g id=\"line2d_24\">\n      <g>\n       <use style=\"stroke:#000000;stroke-width:0.8;\" x=\"235.247283\" xlink:href=\"#m3c1b1f5c4b\" y=\"239.758125\"/>\n      </g>\n     </g>\n     <g id=\"text_13\">\n      <!-- 0 -->\n      <g transform=\"translate(221.884783 243.557344)scale(0.1 -0.1)\">\n       <use xlink:href=\"#DejaVuSans-30\"/>\n      </g>\n     </g>\n    </g>\n    <g id=\"ytick_8\">\n     <g id=\"line2d_25\">\n      <path clip-path=\"url(#p41f91efa4e)\" d=\"M 235.247283 192.964381 \nL 380.8125 192.964381 \n\" style=\"fill:none;stroke:#b0b0b0;stroke-linecap:square;stroke-width:0.8;\"/>\n     </g>\n     <g id=\"line2d_26\">\n      <g>\n       <use style=\"stroke:#000000;stroke-width:0.8;\" x=\"235.247283\" xlink:href=\"#m3c1b1f5c4b\" y=\"192.964381\"/>\n      </g>\n     </g>\n     <g id=\"text_14\">\n      <!-- 2000 -->\n      <g transform=\"translate(202.797283 196.7636)scale(0.1 -0.1)\">\n       <use xlink:href=\"#DejaVuSans-32\"/>\n       <use x=\"63.623047\" xlink:href=\"#DejaVuSans-30\"/>\n       <use x=\"127.246094\" xlink:href=\"#DejaVuSans-30\"/>\n       <use x=\"190.869141\" xlink:href=\"#DejaVuSans-30\"/>\n      </g>\n     </g>\n    </g>\n    <g id=\"ytick_9\">\n     <g id=\"line2d_27\">\n      <path clip-path=\"url(#p41f91efa4e)\" d=\"M 235.247283 146.170637 \nL 380.8125 146.170637 \n\" style=\"fill:none;stroke:#b0b0b0;stroke-linecap:square;stroke-width:0.8;\"/>\n     </g>\n     <g id=\"line2d_28\">\n      <g>\n       <use style=\"stroke:#000000;stroke-width:0.8;\" x=\"235.247283\" xlink:href=\"#m3c1b1f5c4b\" y=\"146.170637\"/>\n      </g>\n     </g>\n     <g id=\"text_15\">\n      <!-- 4000 -->\n      <g transform=\"translate(202.797283 149.969856)scale(0.1 -0.1)\">\n       <use xlink:href=\"#DejaVuSans-34\"/>\n       <use x=\"63.623047\" xlink:href=\"#DejaVuSans-30\"/>\n       <use x=\"127.246094\" xlink:href=\"#DejaVuSans-30\"/>\n       <use x=\"190.869141\" xlink:href=\"#DejaVuSans-30\"/>\n      </g>\n     </g>\n    </g>\n    <g id=\"ytick_10\">\n     <g id=\"line2d_29\">\n      <path clip-path=\"url(#p41f91efa4e)\" d=\"M 235.247283 99.376893 \nL 380.8125 99.376893 \n\" style=\"fill:none;stroke:#b0b0b0;stroke-linecap:square;stroke-width:0.8;\"/>\n     </g>\n     <g id=\"line2d_30\">\n      <g>\n       <use style=\"stroke:#000000;stroke-width:0.8;\" x=\"235.247283\" xlink:href=\"#m3c1b1f5c4b\" y=\"99.376893\"/>\n      </g>\n     </g>\n     <g id=\"text_16\">\n      <!-- 6000 -->\n      <g transform=\"translate(202.797283 103.176112)scale(0.1 -0.1)\">\n       <use xlink:href=\"#DejaVuSans-36\"/>\n       <use x=\"63.623047\" xlink:href=\"#DejaVuSans-30\"/>\n       <use x=\"127.246094\" xlink:href=\"#DejaVuSans-30\"/>\n       <use x=\"190.869141\" xlink:href=\"#DejaVuSans-30\"/>\n      </g>\n     </g>\n    </g>\n    <g id=\"ytick_11\">\n     <g id=\"line2d_31\">\n      <path clip-path=\"url(#p41f91efa4e)\" d=\"M 235.247283 52.583149 \nL 380.8125 52.583149 \n\" style=\"fill:none;stroke:#b0b0b0;stroke-linecap:square;stroke-width:0.8;\"/>\n     </g>\n     <g id=\"line2d_32\">\n      <g>\n       <use style=\"stroke:#000000;stroke-width:0.8;\" x=\"235.247283\" xlink:href=\"#m3c1b1f5c4b\" y=\"52.583149\"/>\n      </g>\n     </g>\n     <g id=\"text_17\">\n      <!-- 8000 -->\n      <g transform=\"translate(202.797283 56.382368)scale(0.1 -0.1)\">\n       <use xlink:href=\"#DejaVuSans-38\"/>\n       <use x=\"63.623047\" xlink:href=\"#DejaVuSans-30\"/>\n       <use x=\"127.246094\" xlink:href=\"#DejaVuSans-30\"/>\n       <use x=\"190.869141\" xlink:href=\"#DejaVuSans-30\"/>\n      </g>\n     </g>\n    </g>\n   </g>\n   <g id=\"patch_68\">\n    <path d=\"M 235.247283 239.758125 \nL 235.247283 22.318125 \n\" style=\"fill:none;stroke:#000000;stroke-linecap:square;stroke-linejoin:miter;stroke-width:0.8;\"/>\n   </g>\n   <g id=\"patch_69\">\n    <path d=\"M 380.8125 239.758125 \nL 380.8125 22.318125 \n\" style=\"fill:none;stroke:#000000;stroke-linecap:square;stroke-linejoin:miter;stroke-width:0.8;\"/>\n   </g>\n   <g id=\"patch_70\">\n    <path d=\"M 235.247283 239.758125 \nL 380.8125 239.758125 \n\" style=\"fill:none;stroke:#000000;stroke-linecap:square;stroke-linejoin:miter;stroke-width:0.8;\"/>\n   </g>\n   <g id=\"patch_71\">\n    <path d=\"M 235.247283 22.318125 \nL 380.8125 22.318125 \n\" style=\"fill:none;stroke:#000000;stroke-linecap:square;stroke-linejoin:miter;stroke-width:0.8;\"/>\n   </g>\n   <g id=\"text_18\">\n    <!-- spa -->\n    <g transform=\"translate(297.418329 16.318125)scale(0.12 -0.12)\">\n     <defs>\n      <path d=\"M 2834 3397 \nL 2834 2853 \nQ 2591 2978 2328 3040 \nQ 2066 3103 1784 3103 \nQ 1356 3103 1142 2972 \nQ 928 2841 928 2578 \nQ 928 2378 1081 2264 \nQ 1234 2150 1697 2047 \nL 1894 2003 \nQ 2506 1872 2764 1633 \nQ 3022 1394 3022 966 \nQ 3022 478 2636 193 \nQ 2250 -91 1575 -91 \nQ 1294 -91 989 -36 \nQ 684 19 347 128 \nL 347 722 \nQ 666 556 975 473 \nQ 1284 391 1588 391 \nQ 1994 391 2212 530 \nQ 2431 669 2431 922 \nQ 2431 1156 2273 1281 \nQ 2116 1406 1581 1522 \nL 1381 1569 \nQ 847 1681 609 1914 \nQ 372 2147 372 2553 \nQ 372 3047 722 3315 \nQ 1072 3584 1716 3584 \nQ 2034 3584 2315 3537 \nQ 2597 3491 2834 3397 \nz\n\" id=\"DejaVuSans-73\" transform=\"scale(0.015625)\"/>\n      <path d=\"M 1159 525 \nL 1159 -1331 \nL 581 -1331 \nL 581 3500 \nL 1159 3500 \nL 1159 2969 \nQ 1341 3281 1617 3432 \nQ 1894 3584 2278 3584 \nQ 2916 3584 3314 3078 \nQ 3713 2572 3713 1747 \nQ 3713 922 3314 415 \nQ 2916 -91 2278 -91 \nQ 1894 -91 1617 61 \nQ 1341 213 1159 525 \nz\nM 3116 1747 \nQ 3116 2381 2855 2742 \nQ 2594 3103 2138 3103 \nQ 1681 3103 1420 2742 \nQ 1159 2381 1159 1747 \nQ 1159 1113 1420 752 \nQ 1681 391 2138 391 \nQ 2594 391 2855 752 \nQ 3116 1113 3116 1747 \nz\n\" id=\"DejaVuSans-70\" transform=\"scale(0.015625)\"/>\n      <path d=\"M 2194 1759 \nQ 1497 1759 1228 1600 \nQ 959 1441 959 1056 \nQ 959 750 1161 570 \nQ 1363 391 1709 391 \nQ 2188 391 2477 730 \nQ 2766 1069 2766 1631 \nL 2766 1759 \nL 2194 1759 \nz\nM 3341 1997 \nL 3341 0 \nL 2766 0 \nL 2766 531 \nQ 2569 213 2275 61 \nQ 1981 -91 1556 -91 \nQ 1019 -91 701 211 \nQ 384 513 384 1019 \nQ 384 1609 779 1909 \nQ 1175 2209 1959 2209 \nL 2766 2209 \nL 2766 2266 \nQ 2766 2663 2505 2880 \nQ 2244 3097 1772 3097 \nQ 1472 3097 1187 3025 \nQ 903 2953 641 2809 \nL 641 3341 \nQ 956 3463 1253 3523 \nQ 1550 3584 1831 3584 \nQ 2591 3584 2966 3190 \nQ 3341 2797 3341 1997 \nz\n\" id=\"DejaVuSans-61\" transform=\"scale(0.015625)\"/>\n     </defs>\n     <use xlink:href=\"#DejaVuSans-73\"/>\n     <use x=\"52.099609\" xlink:href=\"#DejaVuSans-70\"/>\n     <use x=\"115.576172\" xlink:href=\"#DejaVuSans-61\"/>\n    </g>\n   </g>\n  </g>\n </g>\n <defs>\n  <clipPath id=\"p65d13d9f75\">\n   <rect height=\"217.44\" width=\"145.565217\" x=\"46.0125\" y=\"22.318125\"/>\n  </clipPath>\n  <clipPath id=\"p41f91efa4e\">\n   <rect height=\"217.44\" width=\"145.565217\" x=\"235.247283\" y=\"22.318125\"/>\n  </clipPath>\n </defs>\n</svg>\n",
            "image/png": "[encoded data removed]"
          },
          "metadata": {
            "needs_background": "light"
          }
        }
      ]
    },
    {
      "cell_type": "markdown",
      "metadata": {
        "id": "KLoHkmmu32Fi"
      },
      "source": [
        "The maximum length of the German sentences is 11 and that of the English phrases is 8."
      ]
    },
    {
      "cell_type": "markdown",
      "metadata": {
        "id": "EWIgQ1AN32Fj"
      },
      "source": [
        "Let's vectorize our text data by using Keras's Tokenizer() class. It will turn our sentences into sequences of integers. Then we will pad those sequences with zeros to make all the sequences of same length."
      ]
    },
    {
      "cell_type": "code",
      "metadata": {
        "id": "2RIJSEH932Fj"
      },
      "source": [
        "# function to build a tokenizer\n",
        "def tokenization(lines):\n",
        "    tokenizer = Tokenizer()\n",
        "    tokenizer.fit_on_texts(lines)\n",
        "    return tokenizer"
      ],
      "execution_count": 16,
      "outputs": []
    },
    {
      "cell_type": "code",
      "metadata": {
        "id": "Lrh0Wkj032Fj",
        "outputId": "e649c0ad-2231-4af3-d88b-a73c3294ffdb"
      },
      "source": [
        "# prepare english tokenizer\n",
        "eng_tokenizer = tokenization(spa_eng[:, 0])\n",
        "eng_vocab_size = len(eng_tokenizer.word_index) + 1\n",
        "\n",
        "eng_length = 8\n",
        "print('English Vocabulary Size: %d' % eng_vocab_size)"
      ],
      "execution_count": 17,
      "outputs": [
        {
          "output_type": "stream",
          "name": "stdout",
          "text": [
            "English Vocabulary Size: 4387\n"
          ]
        }
      ]
    },
    {
      "cell_type": "code",
      "metadata": {
        "id": "QIEiJhiY32Fk",
        "outputId": "83077744-4972-48b1-f4e4-d87cc78f6ff5"
      },
      "source": [
        "# prepare Deutch tokenizer\n",
        "spa_tokenizer = tokenization(spa_eng[:, 1])\n",
        "spa_vocab_size = len(spa_tokenizer.word_index) + 1\n",
        "\n",
        "spa_length = 8\n",
        "print('Deutch Vocabulary Size: %d' % spa_vocab_size)"
      ],
      "execution_count": 18,
      "outputs": [
        {
          "output_type": "stream",
          "name": "stdout",
          "text": [
            "Deutch Vocabulary Size: 9132\n"
          ]
        }
      ]
    },
    {
      "cell_type": "code",
      "metadata": {
        "id": "4NsDOupz32Fl",
        "outputId": "ea30ca30-9af4-48c3-ed17-17bbfcfd755d",
        "tags": [
          "outputPrepend"
        ]
      },
      "source": [
        "print(spa_tokenizer.word_counts)"
      ],
      "execution_count": 19,
      "outputs": [
        {
          "output_type": "stream",
          "name": "stdout",
          "text": [
            "les', 1), ('diseñó', 1), ('contrario', 1), ('pesar', 1), ('cólera', 1), ('enriqueció', 1), ('agarró', 3), ('dama', 1), ('acababa', 2), ('redonda', 1), ('actuado', 1), ('picassos', 1), ('sostuvo', 1), ('pescadero', 1), ('grosera', 1), ('efectivamente', 1), ('penitencia', 1), ('80', 1), ('kilos', 1), ('soberbio', 1), ('dando', 4), ('lavando', 1), ('promesa', 1), ('quiénes', 3), ('sobria', 1), ('melón', 1), ('cardiff', 1), ('marruecos', 1), ('insecto', 1), ('haya', 4), ('masculló', 1), ('suele', 2), ('jaulas', 1), ('alcanzó', 3), ('administra', 1), ('zapatería', 1), ('lustró', 1), ('agradecerle', 2), ('cristianismo', 1), ('amarla', 1), ('amó', 2), ('ohio', 1), ('enterraron', 1), ('nombraron', 1), ('capitán', 2), ('terriblemente', 1), ('castigado', 2), ('derrotará', 1), ('aprobará', 1), ('dirá', 2), ('arrepentirá', 1), ('creerá', 1), ('laboratorio', 1), ('empeño', 1), ('rendir', 2), ('letra', 2), ('mejorará', 1), ('cazafantasmas', 1), ('guionista', 1), ('teme', 3), ('tantos', 1), ('centinela', 1), ('tetris', 2), ('posiblemente', 1), ('mejillas', 1), ('novela', 5), ('che', 3), ('recordar', 2), ('conmovió', 1), ('sostenete', 1), ('agarre', 1), ('honestidad', 2), ('virtud', 2), ('sinceridad', 1), ('¡cuánto', 1), ('nhk', 1), ('funcionan', 1), ('imanes', 1), ('concierto', 2), ('casamiento', 1), ('arreglarás', 1), ('aligera', 1), ('porque', 2), ('condiciones', 2), ('mato', 1), ('prometido', 1), ('resfriando', 1), ('india', 2), ('pelando', 1), ('tocando', 1), ('obra', 2), ('escucharlo', 2), ('tristeza', 1), ('escaso', 1), ('fondos', 1), ('kanji', 1), ('sms', 1), ('londres', 2), ('viniese', 1), ('ayudara', 1), ('pedía', 2), ('cantara', 1), ('cantase', 1), ('quedara', 5), ('quedase', 2), ('parase', 1), ('parara', 2), ('almorcé', 3), ('apresuradamente', 1), ('liviano', 2), ('24', 1), ('lápices', 2), ('construido', 1), ('construí', 1), ('disculparme', 2), ('verla', 3), ('defender', 1), ('guardar', 1), ('pelar', 2), ('aceptar', 2), ('controlar', 1), ('superarlo', 1), ('acordar', 1), ('decirlo', 1), ('exactitud', 2), ('valla', 2), ('fantaseo', 1), ('decoré', 1), ('invité', 1), ('entendí', 1), ('salgo', 2), ('tampoco', 3), ('aprecio', 1), ('apetece', 2), ('reparo', 1), ('radios', 1), ('rotas', 1), ('preguntárselo', 1), ('c', 2), ('recibí', 1), ('electrónico', 1), ('barca', 1), ('bajé', 2), ('estupenda', 3), ('frenética', 1), ('quedaba', 1), ('mentirle', 1), ('alquilar', 3), ('empleados', 1), ('novia', 4), ('mocos', 1), ('sugerencia', 1), ('apendicitis', 1), ('facturas', 1), ('partidos', 1), ('retortijones', 1), ('solución', 5), ('cambiarlo', 1), ('dejarte', 2), ('darle', 1), ('portazo', 1), ('serias', 1), ('saliera', 1), ('diviertas', 1), ('enterarme', 1), ('enterar', 1), ('visión', 1), ('guardé', 1), ('guardado', 2), ('parda', 1), ('trataba', 1), ('entenderías', 1), ('cuantas', 2), ('tema', 3), ('cuándo', 3), ('exótica', 1), ('actitud', 3), ('patatas', 1), ('perfume', 1), ('jersey', 1), ('página', 3), ('web', 2), ('kioto', 2), ('sector', 1), ('encerré', 1), ('lados', 1), ('china', 1), ('italiana', 1), ('€', 1), ('logré', 1), ('arreglé', 1), ('decírtelo', 3), ('in', 1), ('casualidad', 3), ('club', 1), ('topé', 1), ('asesiné', 1), ('haberlo', 2), ('haberme', 1), ('asistente', 3), ('perchas', 1), ('resfrío', 2), ('3000', 1), ('conecté', 1), ('fingí', 1), ('pijama', 3), ('pongo', 2), ('actos', 1), ('revisado', 1), ('informe', 4), ('reescribí', 1), ('reescrito', 1), ('conduzco', 2), ('moto', 1), ('podías', 1), ('anoche', 2), ('pidiendo', 2), ('socorro', 1), ('proposición', 1), ('moción', 1), ('mandé', 4), ('email', 2), ('resolví', 1), ('tartamudeo', 1), ('sospecho', 1), ('factible', 1), ('pararan', 1), ('quité', 1), ('integrar', 1), ('salvar', 2), ('salvarle', 1), ('salvarlo', 1), ('salvarte', 1), ('apagué', 1), ('desaté', 1), ('cinta', 1), ('filete', 1), ('emborrachar', 1), ('acostarme', 1), ('casarme', 1), ('negociar', 1), ('acuático', 1), ('relajes', 1), ('matan', 1), ('desilusionado', 1), ('disfrutando', 1), ('atónito', 1), ('relajándome', 1), ('alterado', 1), ('vanidoso', 1), ('asustada', 2), ('tercero', 1), ('cola', 1), ('lavé', 3), ('sábanas', 1), ('preguntando', 1), ('siquiera', 5), ('regresaré', 1), ('enfadaré', 1), ('encantaría', 1), ('capaz', 3), ('estuviera', 3), ('tuviéramos', 1), ('olvidaré', 1), ('moriría', 1), ('habría', 2), ('daiquiri', 1), ('querría', 2), ('revisaré', 1), ('tomaré', 1), ('desnatada', 1), ('reuniré', 2), ('patearé', 1), ('trasero', 1), ('mandaré', 2), ('pensaré', 2), ('actualizaré', 1), ('perfeccionista', 1), ('tenista', 4), ('absolutamente', 2), ('disposición', 1), ('vientos', 1), ('rápida', 2), ('cuarenta', 1), ('recuperado', 1), ('cachorro', 1), ('casando', 1), ('comprarlo', 1), ('apartamento', 1), ('increíblemente', 1), ('esclavo', 1), ('absoluto', 1), ('aventuroso', 1), ('quejo', 1), ('especulando', 1), ('practico', 1), ('judo', 1), ('¿o', 1), ('fila', 1), ('preparándome', 1), ('suspendieron', 1), ('cogí', 1), ('preocupaciones', 2), ('escuchado', 2), ('estudiado', 1), ('identificaos', 1), ('parto', 1), ('¿sigue', 1), ('submarino', 1), ('¿anda', 1), ('billetero', 1), ('tremendo', 1), ('impactante', 1), ('¿eh', 1), ('tomas', 1), ('jodió', 1), ('duró', 2), ('costoso', 1), ('profecía', 1), ('exquisita', 1), ('merecido', 1), ('maravilla', 2), ('energía', 2), ('solar', 1), ('equivocamos', 1), ('metieron', 4), ('justa', 1), ('descuido', 1), ('estimulante', 1), ('oscureciendo', 1), ('presentimiento', 1), ('estuviese', 1), ('rumor', 1), ('siniestro', 1), ('imperdonable', 1), ('petición', 1), ('nevará', 1), ('cumpleaños', 1), ('comedia', 1), ('cantidad', 1), ('considerable', 1), ('acreditada', 1), ('elegir', 4), ('juerga', 1), ('once', 1), ('privada', 1), ('facilísimo', 1), ('nublando', 1), ('placebo', 1), ('única', 2), ('insólito', 1), ('rasguño', 1), ('insoportable', 1), ('jesus', 1), ('segundos', 1), ('mantenme', 1), ('abiertos', 2), ('omite', 1), ('libérate', 1), ('permitime', 1), ('optimistas', 1), ('revisemos', 1), ('busquemos', 1), ('metámoslo', 1), ('llevémoslo', 1), ('divirtámonos', 2), ('limpiemos', 1), ('exageremos', 1), ('arruinemos', 1), ('leamos', 1), ('3', 1), ('compartamos', 1), ('tratemos', 1), ('¡intentemos', 1), ('imagen', 1), ('oxígeno', 1), ('acuerde', 1), ('solicite', 1), ('¡hombre', 1), ('prometida', 1), ('camarera', 1), ('acompañas', 1), ('acompañar', 1), ('permite', 1), ('interrumpa', 1), ('suben', 1), ('árboles', 3), ('¡mi', 2), ('mima', 1), ('lectura', 2), ('equipaje', 2), ('extravió', 1), ('5', 1), ('húmedos', 1), ('atoró', 2), ('explicó', 1), ('detendrá', 1), ('importo', 1), ('torturó', 1), ('infalible', 1), ('detenerme', 1), ('detenernos', 1), ('enseñarte', 1), ('dará', 1), ('avestruces', 1), ('prestanos', 1), ('duraznos', 1), ('tócame', 1), ('ventila', 1), ('corrija', 1), ('murmures', 1), ('tómese', 1), ('escúcheme', 1), ('deséame', 1), ('conocerte', 1), ('conocerlo', 1), ('veneno', 1), ('tire', 1), ('suéter', 2), ('¡ponete', 1), ('poné', 1), ('ponete', 1), ('¡abajo', 1), ('rambo', 1), ('acordate', 1), ('respetad', 1), ('antigua', 1), ('ciencia', 1), ('salúdela', 1), ('coció', 1), ('respiró', 1), ('llamaba', 1), ('costearlo', 1), ('2000', 1), ('narizota', 1), ('convulsiones', 1), ('adelgazado', 3), ('tortas', 1), ('corredor', 1), ('conocida', 1), ('ancho', 1), ('prosiguió', 1), ('saña', 1), ('helados', 1), ('interpretó', 1), ('sonata', 1), ('jaló', 1), ('shinjuku', 1), ('reservó', 2), ('impunidad', 1), ('frotó', 2), ('talló', 1), ('viajó', 1), ('ibaragi', 2), ('rubia', 1), ('besadora', 1), ('moderna', 1), ('chusma', 1), ('hermosura', 1), ('¡mostrame', 1), ('bocota', 1), ('bocaza', 1), ('quemando', 2), ('apretá', 1), ('condescender', 1), ('quítese', 2), ('quítense', 2), ('sacate', 1), ('sáquense', 1), ('medias', 1), ('quitaos', 1), ('decile', 1), ('adónde', 4), ('indícame', 1), ('deciles', 1), ('tailandia', 1), ('aclara', 1), ('explica', 1), ('irrita', 1), ('alucinante', 1), ('previsto', 1), ('inesperado', 1), ('poema', 1), ('órgano', 1), ('limonero', 2), ('imitación', 1), ('museo', 1), ('relevante', 1), ('buscamos', 1), ('magnífico', 1), ('inaceptable', 1), ('funeral', 1), ('calentó', 1), ('blusa', 1), ('regañado', 1), ('arbusto', 1), ('empresa', 1), ('malogró', 1), ('botón', 1), ('complejo', 1), ('carbón', 1), ('ardiendo', 2), ('cultivos', 1), ('multitud', 2), ('dispersó', 1), ('zapato', 1), ('babeando', 1), ('alegres', 1), ('cerrando', 1), ('economía', 2), ('corrupto', 1), ('bosque', 2), ('heladera', 1), ('ácidas', 1), ('pasaban', 1), ('alterada', 1), ('modificada', 1), ('apagaron', 1), ('rugiendo', 1), ('horrorosa', 1), ('continuó', 1), ('despensa', 1), ('salario', 1), ('exquisito', 1), ('estanque', 1), ('congeló', 1), ('elevados', 1), ('motivo', 1), ('tejado', 1), ('claras', 1), ('sanando', 1), ('hunde', 2), ('apestan', 1), ('victoria', 1), ('asombrosa', 1), ('caída', 1), ('cremallera', 1), ('atascada', 1), ('habrá', 1), ('¡hay', 1), ('escritorios', 1), ('maravillosas', 1), ('suceden', 1), ('nerviosas', 1), ('despediros', 1), ('despedirle', 1), ('despedirles', 1), ('pararnos', 1), ('burlaron', 1), ('fracasado', 1), ('alquilaron', 1), ('coro', 1), ('demandarte', 1), ('rodearon', 1), ('desertores', 1), ('forman', 1), ('regresando', 1), ('indefensas', 1), ('burlando', 1), ('favoritos', 1), ('chuleta', 1), ('tierna', 1), ('amarga', 1), ('significar', 1), ('periódico', 1), ('menuda', 1), ('cubo', 1), ('fastidioso', 2), ('fórmula', 1), ('sagrado', 1), ('intolerable', 1), ('favorita', 1), ('cuaderno', 1), ('sándwich', 1), ('taladro', 1), ('sobresaliente', 1), ('dilema', 2), ('lamentable', 1), ('escalofriante', 1), ('ponerse', 1), ('áspero', 1), ('suelto', 2), ('diente', 2), ('caballeros', 1), ('matarás', 1), ('transcurrieron', 1), ('semanas', 1), ('agotando', 1), ('detenerse', 1), ('fastidió', 1), ('webcam', 1), ('costear', 1), ('atrapó', 1), ('desafió', 1), ('animó', 1), ('colecciona', 1), ('estampillas', 2), ('peinó', 1), ('enfrentó', 1), ('repartió', 1), ('voltereta', 1), ('culpó', 1), ('traído', 1), ('quejó', 1), ('vejez', 1), ('desilusionó', 1), ('agrado', 1), ('motivó', 1), ('enfrenta', 1), ('horriblemente', 1), ('fingió', 1), ('perseguido', 1), ('sufrió', 1), ('rifle', 1), ('promovido', 1), ('avergonzó', 1), ('irritó', 1), ('arduo', 1), ('calva', 1), ('leporino', 2), ('sufre', 1), ('simpatía', 1), ('otras', 1), ('delgadas', 1), ('amigdalitis', 1), ('opciones', 3), ('brujas', 1), ('silbido', 2), ('sujetó', 1), ('bioquímico', 1), ('decente', 1), ('tragafuegos', 1), ('deportista', 1), ('periodista', 2), ('político', 1), ('psicópata', 1), ('trabajólico', 1), ('ambidiestro', 1), ('arquitecto', 1), ('conservador', 1), ('antipático', 1), ('incorregible', 2), ('intelectual', 1), ('igual', 4), ('pabellón', 1), ('lamenta', 1), ('mandando', 1), ('inescrupuloso', 1), ('insensato', 1), ('religioso', 1), ('garabateando', 1), ('erupto', 1), ('morenas', 1), ('curry', 1), ('picante', 1), ('ton', 1), ('billetera', 2), ('emplear', 1), ('aporte', 1), ('hirió', 1), ('supo', 2), ('ordenó', 1), ('debía', 2), ('adeuda', 1), ('empacó', 1), ('bolsos', 1), ('desgarró', 1), ('músculo', 1), ('sotana', 1), ('cuestionó', 1), ('niega', 1), ('rehúsa', 1), ('reanudó', 1), ('encarando', 1), ('frunció', 1), ('alineó', 1), ('compromiso', 1), ('gemido', 1), ('cavar', 1), ('estofado', 1), ('comprendió', 1), ('vendados', 1), ('liberado', 1), ('mintiéndonos', 1), ('estabá', 1), ('irritado', 1), ('extraordinariio', 1), ('espantado', 1), ('alertará', 1), ('cogerá', 1), ('perdonar', 1), ('trapeó', 1), ('ganadas', 1), ('despedirá', 1), ('interferirá', 1), ('odiaría', 1), ('desordenada', 1), ('traduce', 1), ('traduzca', 1), ('traduzcan', 1), ('traducid', 1), ('traducí', 1), ('inténtenlo', 1), ('probate', 1), ('pullover', 1), ('bájale', 1), ('ponla', 1), ('cafés', 1), ('esperá', 1), ('concierne', 1), ('pelma', 1), ('palabrotas', 1), ('tacos', 1), ('similares', 1), ('parecemos', 1), ('exageramos', 1), ('cogimos', 1), ('agarramos', 1), ('jugamos', 2), ('repudiamos', 1), ('disgusta', 1), ('bebemos', 3), ('anomalía', 1), ('abandonamos', 1), ('subimos', 1), ('crecimos', 2), ('oral', 1), ('prevenir', 1), ('barra', 3), ('obedecimos', 1), ('alcanzamos', 1), ('lamentamos', 3), ('deceso', 1), ('fallecimiento', 1), ('sazonamos', 1), ('nadamos', 1), ('viajamos', 1), ('superaban', 1), ('peleándonos', 1), ('peleábamos', 2), ('derrotaremos', 1), ('dejaremos', 1), ('empezaremos', 1), ('enteraremos', 1), ('descubriremos', 1), ('informados', 1), ('volvimos', 1), ('observados', 1), ('cardiólogos', 1), ('cercanos', 1), ('atónitos', 1), ('cenando', 1), ('abrimos', 1), ('encantados', 1), ('tendido', 1), ('derrotado', 1), ('elecciones', 1), ('persiguen', 1), ('diciendo', 1), ('respondido', 1), ('respondiste', 1), ('respondisteis', 1), ('esperabas', 1), ('creés', 2), ('sugieres', 1), ('postre', 1), ('pupitre', 1), ('cocinamos', 1), ('hacías', 1), ('leéis', 1), ('deshacer', 1), ('tarifa', 1), ('opina', 1), ('levantaste', 1), ('volviste', 1), ('terminan', 1), ('llegaremos', 1), ('empezarás', 2), ('¿cuando', 1), ('guantes', 2), ('tenedores', 1), ('niñas', 2), ('estudiaste', 1), ('estudiaron', 1), ('birome', 1), ('letrina', 1), ('aeropuerto', 1), ('frazada', 2), ('hablabas', 1), ('hablaste', 1), ('¿quén', 1), ('informar', 1), ('biblia', 1), ('peleamos', 1), ('bostezando', 1), ('apresurar', 1), ('contrataste', 1), ('vendiste', 1), ('dudás', 1), ('dices', 1), ('preocuparía', 1), ('¿cenarás', 1), ('¿firmaría', 1), ('¡hala', 1), ('ensayo', 1), ('decís', 1), ('pediste', 2), ('retirar', 1), ('señor', 2), ('disponer', 1), ('culparle', 4), ('ayudarles', 1), ('fiarte', 1), ('medalla', 4), ('merecen', 1), ('merecéis', 1), ('confiaste', 1), ('decepcionaste', 1), ('parecían', 1), ('¡sabes', 1), ('paliducho', 1), ('sexy', 1), ('seguramente', 1), ('apareciste', 1), ('pagas', 1), ('calidad', 1), ('semáforo', 1), ('pues', 2), ('majara', 1), ('apestas', 1), ('alcohol', 2), ('formal', 1), ('agradecerme', 1), ('echaste', 1), ('bronca', 1), ('rajaste', 1), ('elegido', 1), ('ignorado', 1), ('advierto', 1), ('estaréis', 2), ('pagarás', 2), ('afortunada', 1), ('aciertas', 1), ('detestable', 1), ('confundiendo', 1), ('desorganizado', 1), ('bolacero', 1), ('quedas', 1), ('quedan', 1), ('detenidos', 2), ('elegante', 1), ('sucios', 1), ('frías', 1), ('despelote', 1), ('dolar', 2), ('calamar', 1), ('tentáculos', 1), ('añádele', 1), ('ponle', 1), ('cálculos', 1), ('sospecha', 1), ('crecen', 1), ('imitando', 1), ('arremedando', 1), ('espiando', 1), ('subjetiva', 1), ('imitaciones', 2), ('bob', 1), ('mataron', 3), ('traigan', 1), ('tráete', 1), ('versión', 1), ('exterminador', 1), ('prestada', 1), ('tomarme', 1), ('prender', 1), ('encender', 1), ('aclararlo', 1), ('aclarar', 1), ('despacharlo', 1), ('repartir', 1), ('adivinar', 1), ('imaginarlo', 1), ('¿sabéis', 1), ('juntar', 1), ('programar', 1), ('mojarse', 1), ('entumece', 1), ('miembros', 1), ('resfriados', 1), ('contagiosos', 1), ('considera', 1), ('algodón', 1), ('absorbe', 1), ('traernos', 1), ('diamantes', 1), ('eternos', 1), ('¿preguntó', 1), ('¿pasó', 1), ('¿viniste', 1), ('¿vinisteis', 1), ('¿hiciste', 1), ('¿ganasteis', 1), ('¿ganó', 2), ('¿ganaron', 2), ('visítenos', 1), ('perturban', 1), ('serpientes', 2), ('molestan', 1), ('levantas', 1), ('presupuesto', 1), ('fotos', 1), ('tatuaje', 1), ('beisbol', 1), ('brócoli', 2), ('¿luces', 1), ('¿necesitan', 1), ('¿necesitás', 1), ('¿recuerdas', 1), ('¿corres', 1), ('¿piensas', 1), ('¿pensáis', 2), ('galletita', 1), ('galleta', 1), ('delfines', 1), ('curiosos', 1), ('admitas', 1), ('admitás', 1), ('descuidado', 1), ('infantil', 1), ('reservado', 1), ('frenes', 2), ('compres', 1), ('compre', 1), ('cierres', 2), ('bebas', 1), ('duras', 1), ('esfuerces', 1), ('emociones', 1), ('extremos', 1), ('errores', 3), ('cometan', 1), ('hurgues', 1), ('cerréis', 1), ('derrames', 1), ('toqués', 1), ('intentes', 3), ('engañarme', 1), ('ocultarlo', 1), ('perdés', 1), ('pierdes', 1), ('temen', 1), ('esperaban', 1), ('durmieron', 1), ('calmados', 1), ('sonreían', 1), ('torpeza', 1), ('¡formen', 1), ('recta', 1), ('aleja', 1), ('comuníquese', 1), ('¡divertíos', 1), ('¡diviértete', 1), ('almorzado', 1), ('fumado', 1), ('mediste', 1), ('conociste', 1), ('lapicera', 1), ('probado', 1), ('usaste', 1), ('bailara', 1), ('suicidarse', 1), ('catolicismo', 1), ('sentirse', 1), ('suplicó', 1), ('imploró', 1), ('rogó', 1), ('eligió', 1), ('esquiló', 1), ('oveja', 1), ('ginebra', 1), ('lloraba', 1), ('garbo', 1), ('acto', 1), ('pío', 1), ('chistó', 1), ('enfada', 1), ('vació', 1), ('envidia', 1), ('realizó', 1), ('cansa', 2), ('lograba', 1), ('doctorado', 1), ('veintidós', 1), ('hambrienta', 1), ('importado', 1), ('acento', 1), ('pecho', 1), ('peludo', 1), ('personalidad', 1), ('dócil', 1), ('ingreso', 1), ('marco', 1), ('voluntad', 1), ('poderosos', 1), ('hijas', 1), ('extendió', 1), ('crítico', 1), ('holgazán', 1), ('hueso', 1), ('roer', 1), ('hábil', 1), ('reconocido', 1), ('sesenta', 1), ('satisfacerlo', 1), ('complacer', 1), ('prepara', 1), ('querido', 1), ('depresivo', 1), ('vivió', 2), ('nagasaki', 1), ('yokohama', 1), ('tosca', 1), ('velocidad', 1), ('repitió', 1), ('ridiculizó', 1), ('enfadarse', 1), ('portugués', 1), ('súbito', 1), ('estudiara', 2), ('dobló', 1), ('triunfar', 2), ('vasos', 1), ('obligaron', 1), ('ciervos', 1), ('influencia', 1), ('jugador', 1), ('pulmón', 1), ('avaro', 1), ('aficionado', 1), ('ofreció', 1), ('entradas', 1), ('amarilla', 1), ('vinos', 1), ('¿trabajáis', 1), ('inspiró', 1), ('ásperas', 1), ('vacías', 1), ('aguantarlo', 1), ('profundidad', 1), ('averiguó', 1), ('conocisteis', 1), ('abro', 1), ('¿cuántas', 1), ('cuestan', 1), ('pagado', 1), ('detendrás', 1), ('aspiro', 1), ('disculpado', 1), ('pintar', 2), ('construyendo', 1), ('pared', 1), ('obligan', 1), ('vistiendo', 1), ('ordeñando', 1), ('trapeando', 1), ('dejando', 1), ('revolviendo', 1), ('malgastando', 1), ('disculpo', 1), ('condujera', 1), ('condujese', 1), ('diese', 1), ('marchase', 1), ('panchos', 1), ('malicia', 1), ('rogué', 1), ('cenicero', 1), ('yema', 1), ('recado', 1), ('permitirme', 1), ('pipa', 1), ('involucrarme', 1), ('ocultarme', 1), ('apagarlo', 1), ('infinito', 1), ('provoqué', 1), ('elijo', 1), ('cerré', 2), ('monedas', 1), ('comino', 1), ('mínimo', 1), ('rábano', 1), ('crucé', 1), ('subido', 1), ('sueldo', 1), ('deseaba', 1), ('ciudades', 1), ('interesa', 1), ('caridad', 1), ('canilla', 8), ('tomado', 4), ('grifo', 8), ('echarle', 1), ('vigilarlo', 1), ('serví', 1), ('sacaron', 1), ('alternativa', 1), ('ganara', 1), ('dobladas', 1), ('celosas', 1), ('cine', 2), ('afilado', 1), ('tripa', 1), ('sangrantes', 1), ('pesqué', 1), ('juzgado', 1), ('fotográficas', 1), ('localizar', 1), ('botas', 1), ('crujir', 1), ('rama', 1), ('ayudante', 1), ('cambien', 1), ('mañanas', 1), ('saltaba', 1), ('costilla', 1), ('cortarme', 1), ('cortar', 1), ('pantera', 1), ('pato', 1), ('ibas', 1), ('encontrarías', 1), ('canciones', 2), ('mentisteis', 1), ('moderé', 1), ('discusión', 1), ('presté', 1), ('decepcioné', 1), ('fallé', 1), ('colores', 2), ('claros', 1), ('brillantes', 1), ('bistec', 1), ('cocido', 1), ('póquer', 1), ('zuecos', 1), ('premios', 1), ('sencilla', 1), ('dique', 1), ('busqué', 1), ('buscaba', 1), ('linterna', 1), ('noción', 1), ('francesas', 1), ('pimientos', 1), ('gradué', 1), ('faltarle', 1), ('cobijas', 1), ('mantas', 1), ('práctica', 1), ('ahorrar', 1), ('mirarlo', 1), ('200', 1), ('rayo', 1), ('diablo', 1), ('rechacé', 2), ('propuesta', 1), ('parezco', 1), ('lloviera', 1), ('seriamente', 1), ('habértelo', 2), ('mostré', 4), ('dormitorio', 1), ('indiqué', 1), ('deslicé', 1), ('resuelto', 1), ('misterio', 1), ('introduje', 1), ('comprendí', 1), ('entendido', 1), ('llevan', 1), ('equivocas', 1), ('pensé', 1), ('viajé', 2), ('reírme', 1), ('escribirle', 1), ('adinerado', 1), ('colina', 1), ('ventanilla', 1), ('mp3', 1), ('pasillo', 1), ('olvidarla', 1), ('complacerte', 1), ('comportes', 1), ('ganaran', 2), ('amar', 1), ('vinieras', 1), ('supieras', 1), ('solitaria', 1), ('teatro', 2), ('¡una', 1), ('marcharme', 1), ('58', 1), ('kilogramos', 1), ('uní', 1), ('ejército', 1), ('marina', 1)])\n"
          ]
        }
      ]
    },
    {
      "cell_type": "markdown",
      "metadata": {
        "id": "BFRiUnL732Fl"
      },
      "source": [
        "Given below is a function to prepare the sequences. It will also perform sequence padding to a maximum sentence length as mentioned above. "
      ]
    },
    {
      "cell_type": "code",
      "metadata": {
        "id": "2I3Hnq_032Fl"
      },
      "source": [
        "# encode and pad sequences\n",
        "def encode_sequences(tokenizer, length, lines):\n",
        "    # integer encode sequences\n",
        "    seq = tokenizer.texts_to_sequences(lines)\n",
        "    # pad sequences with 0 values\n",
        "    seq = pad_sequences(seq, maxlen=length, padding='post')\n",
        "    print(seq)\n",
        "    print(len(seq))\n",
        "    return seq"
      ],
      "execution_count": 20,
      "outputs": []
    },
    {
      "cell_type": "code",
      "metadata": {
        "id": "WwyM1hPA32Fl",
        "outputId": "1cc81e75-c6eb-4475-b8eb-eb62e58309de"
      },
      "source": [],
      "execution_count": null,
      "outputs": [
        {
          "output_type": "stream",
          "text": [
            "<bound method Tokenizer.texts_to_sequences of <keras_preprocessing.text.Tokenizer object at 0x000001D5AD17AA08>>\n"
          ],
          "name": "stdout"
        }
      ]
    },
    {
      "cell_type": "markdown",
      "metadata": {
        "id": "r1h1NCZE32Fm"
      },
      "source": [
        "### Model Building"
      ]
    },
    {
      "cell_type": "markdown",
      "metadata": {
        "id": "rNwh2MYE32Fm"
      },
      "source": [
        "We will now split the data into train and test set for model training and evaluation, respectively."
      ]
    },
    {
      "cell_type": "code",
      "metadata": {
        "id": "FERYdIk932Fm"
      },
      "source": [
        "from sklearn.model_selection import train_test_split\n",
        "train, test = train_test_split(spa_eng, test_size=0.2, random_state = 12)"
      ],
      "execution_count": 21,
      "outputs": []
    },
    {
      "cell_type": "markdown",
      "metadata": {
        "id": "TIdqvmfU32Fm"
      },
      "source": [
        "It's time to encode the sentences. We will encode German sentences as the input sequences and English sentences as the target sequences. It will be done for both train and test datasets."
      ]
    },
    {
      "cell_type": "code",
      "metadata": {
        "id": "9B2rrstF32Fn",
        "outputId": "029e9455-e58e-4f27-b51e-b52f22cd15d9"
      },
      "source": [
        "# prepare training data\n",
        "trainX = encode_sequences(spa_tokenizer, spa_length, train[:, 1])\n",
        "trainY = encode_sequences(eng_tokenizer, eng_length, train[:, 0])"
      ],
      "execution_count": 22,
      "outputs": [
        {
          "output_type": "stream",
          "name": "stdout",
          "text": [
            "[[   7  224   36 ...    0    0    0]\n [  61  726    0 ...    0    0    0]\n [   3  175  182 ...    0    0    0]\n ...\n [  37  212 1066 ...    0    0    0]\n [ 135   49   75 ...    0    0    0]\n [   3  219 1430 ...    0    0    0]]\n20000\n[[   7  341   16 ...    0    0    0]\n [  29  591    0 ...    0    0    0]\n [   1  279  116 ...    0    0    0]\n ...\n [  29  538  256 ...    0    0    0]\n [ 223    3    2 ...    0    0    0]\n [   1  141 1294 ...    0    0    0]]\n20000\n"
          ]
        }
      ]
    },
    {
      "cell_type": "code",
      "metadata": {
        "id": "2OrQ_Q2j32Fn",
        "outputId": "aeecfc75-b5a0-487c-960c-ce7f65d95238"
      },
      "source": [
        "print(trainX.shape)\n",
        "print(trainY.shape)"
      ],
      "execution_count": 23,
      "outputs": [
        {
          "output_type": "stream",
          "name": "stdout",
          "text": [
            "(20000, 8)\n(20000, 8)\n"
          ]
        }
      ]
    },
    {
      "cell_type": "code",
      "metadata": {
        "id": "Tf71qw4n32Fn",
        "outputId": "600833ec-8a66-4849-f2bc-43d30d649180"
      },
      "source": [
        "# prepare validation data\n",
        "testX = encode_sequences(spa_tokenizer, spa_length, test[:, 1])\n",
        "testY = encode_sequences(eng_tokenizer, eng_length, test[:, 0])"
      ],
      "execution_count": 24,
      "outputs": [
        {
          "output_type": "stream",
          "name": "stdout",
          "text": [
            "[[1290 7690    0 ...    0    0    0]\n [ 756  791    0 ...    0    0    0]\n [3998    7  552 ...    0    0    0]\n ...\n [ 515  722    0 ...    0    0    0]\n [ 639   40 1746 ...    0    0    0]\n [  34    5  149 ...    7 4374    0]]\n5000\n[[ 150    1 1621 ...    0    0    0]\n [  13    3   35 ...    0    0    0]\n [ 184  113    7 ...    0    0    0]\n ...\n [   4   71  483 ...    0    0    0]\n [ 319   26 1329 ...    0    0    0]\n [  40    4 2034 ...    0    0    0]]\n5000\n"
          ]
        }
      ]
    },
    {
      "cell_type": "code",
      "metadata": {
        "id": "kyvgSSh_32Fo",
        "outputId": "077d61dc-78b2-4605-b9e6-c489df7e7d8d"
      },
      "source": [
        "print(testX.shape)\n",
        "print(testY.shape)"
      ],
      "execution_count": 25,
      "outputs": [
        {
          "output_type": "stream",
          "name": "stdout",
          "text": [
            "(5000, 8)\n(5000, 8)\n"
          ]
        }
      ]
    },
    {
      "cell_type": "markdown",
      "metadata": {
        "id": "dwO1GZ9D32Fo"
      },
      "source": [
        "Now comes the exciting part! Let us define our Seq2Seq model architecture. We are using an Embedding layer and an LSTM layer as our encoder and another LSTM layer followed by a Dense layer as the decoder.  "
      ]
    },
    {
      "cell_type": "code",
      "metadata": {
        "id": "zkvlBl6Z32Fo"
      },
      "source": [
        "# build LSTM model\n",
        "def build_model_lstm(in_vocab, out_vocab, in_timesteps, out_timesteps, units):\n",
        "    model = Sequential()\n",
        "    model.add(Embedding(in_vocab, units, input_length=in_timesteps, mask_zero=True))\n",
        "    model.add(LSTM(units))\n",
        "    model.add(RepeatVector(out_timesteps))    \n",
        "    model.add(LSTM(units, return_sequences=True))\n",
        "    model.add(Dense(out_vocab, activation='softmax'))\n",
        "    return model"
      ],
      "execution_count": 26,
      "outputs": []
    },
    {
      "cell_type": "code",
      "execution_count": 27,
      "metadata": {},
      "outputs": [],
      "source": [
        "from tensorflow.keras.layers import SimpleRNN\n",
        "# build RNN model\n",
        "def build_model_rnn(in_vocab, out_vocab, in_timesteps, out_timesteps, units):\n",
        "    model = Sequential()\n",
        "    model.add(Embedding(in_vocab, units, input_length=in_timesteps, mask_zero=True))\n",
        "    model.add(SimpleRNN(units))\n",
        "    model.add(RepeatVector(out_timesteps))    \n",
        "    model.add(SimpleRNN(units, return_sequences=True))\n",
        "    model.add(Dense(out_vocab, activation='softmax'))\n",
        "    return model"
      ]
    },
    {
      "cell_type": "code",
      "execution_count": 28,
      "metadata": {},
      "outputs": [],
      "source": [
        "from tensorflow.keras.layers import GRU\n",
        "# build NMT model\n",
        "def build_model_gru(in_vocab, out_vocab, in_timesteps, out_timesteps, units):\n",
        "    model = Sequential()\n",
        "    model.add(Embedding(in_vocab, units, input_length=in_timesteps, mask_zero=True))\n",
        "    model.add(GRU(units))\n",
        "    model.add(RepeatVector(out_timesteps))    \n",
        "    model.add(GRU(units, return_sequences=True))\n",
        "    model.add(Dense(out_vocab, activation='softmax'))\n",
        "    return model"
      ]
    },
    {
      "cell_type": "markdown",
      "metadata": {
        "id": "sqJwMleU32Fo"
      },
      "source": [
        "Details about the RepeatVector :  https://machinelearningmastery.com/encoder-decoder-long-short-term-memory-networks/   If you try to force these pieces of the encoder-decoder together, you get an error indicating that the output of the decoder is 2D and 3D input to the decoder is required.\n",
        "\n",
        "We can solve this using a RepeatVector layer. This layer simply repeats the provided 2D input multiple times to create a 3D output.\n",
        "\n",
        "The RepeatVector layer can be used like an adapter to fit the encoder and decoder parts of the network together. We can configure the RepeatVector to repeat the fixed length vector one time for each time step in the output sequence.\n",
        "\n",
        "\n",
        "\n",
        "To summarize, the RepeatVector is used as an **adapter to fit the fixed-sized 2D output of the encoder to the differing length and 3D input expected by the decoder**. The TimeDistributed wrapper allows the same output layer to be reused for each element in the output sequence.                              \n"
      ]
    },
    {
      "cell_type": "code",
      "metadata": {
        "id": "-utKh8FG6keX"
      },
      "source": [
        "### DO NOT RUN IT (example of RepeatVector)\n",
        "#model = Sequential()\n",
        "#model.add(Dense(32, input_dim=32))\n",
        "#### now: model.output_shape == (None, 32)\n",
        "# note: `None` is the batch dimension\n",
        "#model.add(RepeatVector(3))\n",
        "# now: model.output_shape == (None, 3, 32)"
      ],
      "execution_count": 29,
      "outputs": []
    },
    {
      "cell_type": "markdown",
      "metadata": {
        "id": "ZBAxe9P26ysZ"
      },
      "source": [
        "In the above example, the RepeatVector layer repeats the incoming inputs a specific number of time. The shape of the input in the above example was ( 32 , ). But the output shape of the RepeatVector was ( 3 , 32 ), since the inputs were repeated 3 times."
      ]
    },
    {
      "cell_type": "markdown",
      "metadata": {
        "id": "SxOs0dGI32Fo"
      },
      "source": [
        "We are using RMSprop optimizer in this model as it is usually a good choice for recurrent neural networks."
      ]
    },
    {
      "cell_type": "code",
      "metadata": {
        "id": "Mg2qYMQG32Fp",
        "outputId": "45aa607c-7bf1-4959-ab1b-a9c611e15a51"
      },
      "source": [
        "print(spa_vocab_size)\n",
        "print(eng_vocab_size)\n",
        "print(spa_length)\n",
        "print(eng_length)"
      ],
      "execution_count": 30,
      "outputs": [
        {
          "output_type": "stream",
          "name": "stdout",
          "text": [
            "9132\n4387\n8\n8\n"
          ]
        }
      ]
    },
    {
      "cell_type": "code",
      "execution_count": 31,
      "metadata": {},
      "outputs": [],
      "source": [
        "model_lstm = build_model_lstm(spa_vocab_size, eng_vocab_size, spa_length, eng_length, 512)\n",
        "rms_lstm = optimizers.RMSprop(lr=0.001)\n",
        "model_lstm.compile(optimizer=rms_lstm, loss='sparse_categorical_crossentropy')"
      ]
    },
    {
      "cell_type": "code",
      "execution_count": 32,
      "metadata": {},
      "outputs": [],
      "source": [
        "model_rnn = build_model_rnn(spa_vocab_size, eng_vocab_size, spa_length, eng_length, 512)\n",
        "rms_rnn = optimizers.RMSprop(lr=0.001)\n",
        "model_rnn.compile(optimizer=rms_rnn, loss='sparse_categorical_crossentropy')"
      ]
    },
    {
      "cell_type": "code",
      "metadata": {
        "id": "fv9NUUKI32Fp"
      },
      "source": [
        "model_gru = build_model_gru(spa_vocab_size, eng_vocab_size, spa_length, eng_length, 512)\n",
        "rms_gru = optimizers.RMSprop(lr=0.001)\n",
        "model_gru.compile(optimizer=rms_gru, loss='sparse_categorical_crossentropy')"
      ],
      "execution_count": 33,
      "outputs": []
    },
    {
      "cell_type": "markdown",
      "metadata": {
        "id": "1WUZLRgm32Fp"
      },
      "source": [
        "Please note that we have used __'sparse_categorical_crossentropy'__ as the loss function because it allows us to use the target sequence as it is instead of one hot encoded format. One hot encoding the target sequences with such a huge vocabulary might consume our system's entire memory."
      ]
    },
    {
      "cell_type": "markdown",
      "metadata": {
        "id": "XCsKPPTT32Fq"
      },
      "source": [
        "It seems we are all set to start training our model. We will train it for 30 epochs and with a batch size of 512. You may change and play these hyperparameters. We will also be using __ModelCheckpoint()__ to save the best model with lowest validation loss. I personally prefer this method over early stopping."
      ]
    },
    {
      "cell_type": "code",
      "execution_count": 34,
      "metadata": {},
      "outputs": [],
      "source": [
        "def train_and_save(check_name, model_name, model):\n",
        "    checkpointer = ModelCheckpoint(check_name, monitor='val_loss', verbose=1, save_best_only=True, mode='min')\n",
        "    earlystopper = EarlyStopping(\n",
        "        monitor=\"val_loss\",\n",
        "        min_delta=0,\n",
        "        patience=6,\n",
        "        verbose=1,\n",
        "        mode=\"min\",\n",
        "        restore_best_weights=True,\n",
        "    )\n",
        "\n",
        "    history = model.fit(trainX, trainY.reshape(trainY.shape[0], trainY.shape[1], 1), \n",
        "            epochs=30, batch_size=256, \n",
        "            validation_split = 0.2,\n",
        "            callbacks=[checkpointer, earlystopper], verbose=1)\n",
        "\n",
        "    model.save(\"models/{}\".format(model_name))\n",
        "\n",
        "    plt.plot(history.history['loss'])\n",
        "    plt.plot(history.history['val_loss'])\n",
        "    plt.legend(['train','validation'])\n",
        "    plt.xlabel(\"epochs\")\n",
        "    plt.ylabel(\"val_loss\")\n",
        "    plt.savefig('{}/val_loss.png'.format(check_name))\n",
        "    plt.show()"
      ]
    },
    {
      "cell_type": "code",
      "execution_count": 35,
      "metadata": {},
      "outputs": [],
      "source": [
        "checks = ['model.h1.lstm', 'model.h1.rnn', 'model.h1.gru']\n",
        "model_names = [\"lstm.h5\", \"rnn.h5\", \"gru.h5\"]\n",
        "models = [model_lstm, model_rnn, model_gru]"
      ]
    },
    {
      "cell_type": "code",
      "execution_count": null,
      "metadata": {},
      "outputs": [],
      "source": [
        "# Ejecución de LSTM\n",
        "_check = checks[0]\n",
        "_model_name = model_names[0]\n",
        "_model = models[0]\n",
        "train_and_save(check_name=_check, model_name=_model_name, model=_model)\n",
        "%reset_selective -f \"^history$\""
      ]
    },
    {
      "cell_type": "code",
      "execution_count": null,
      "metadata": {},
      "outputs": [],
      "source": [
        "# Ejecución de RNN\n",
        "_check = checks[1]\n",
        "_model_name = model_names[1]\n",
        "_model = models[1]\n",
        "train_and_save(check_name=_check, model_name=_model_name, model=_model)\n",
        "%reset_selective -f \"^history$\""
      ]
    },
    {
      "cell_type": "code",
      "execution_count": 36,
      "metadata": {},
      "outputs": [
        {
          "output_type": "stream",
          "name": "stdout",
          "text": [
            "Train on 16000 samples, validate on 4000 samples\n",
            "Epoch 1/30\n",
            "15616/16000 [============================>.] - ETA: 0s - loss: 3.2632\n",
            "Epoch 00001: val_loss improved from inf to 2.70911, saving model to model.h1.gru\n",
            "WARNING:tensorflow:From /home/aromo/anaconda3/envs/gpu/lib/python3.7/site-packages/tensorflow_core/python/ops/resource_variable_ops.py:1781: calling BaseResourceVariable.__init__ (from tensorflow.python.ops.resource_variable_ops) with constraint is deprecated and will be removed in a future version.\n",
            "Instructions for updating:\n",
            "If using Keras pass *_constraint arguments to layers.\n",
            "INFO:tensorflow:Assets written to: model.h1.gru/assets\n",
            "16000/16000 [==============================] - 17s 1ms/sample - loss: 3.2490 - val_loss: 2.7091\n",
            "Epoch 2/30\n",
            "15616/16000 [============================>.] - ETA: 0s - loss: 2.6108\n",
            "Epoch 00002: val_loss improved from 2.70911 to 2.55978, saving model to model.h1.gru\n",
            "INFO:tensorflow:Assets written to: model.h1.gru/assets\n",
            "16000/16000 [==============================] - 12s 759us/sample - loss: 2.6080 - val_loss: 2.5598\n",
            "Epoch 3/30\n",
            "15872/16000 [============================>.] - ETA: 0s - loss: 2.3892\n",
            "Epoch 00003: val_loss improved from 2.55978 to 2.37529, saving model to model.h1.gru\n",
            "INFO:tensorflow:Assets written to: model.h1.gru/assets\n",
            "16000/16000 [==============================] - 12s 751us/sample - loss: 2.3884 - val_loss: 2.3753\n",
            "Epoch 4/30\n",
            "15872/16000 [============================>.] - ETA: 0s - loss: 2.1919\n",
            "Epoch 00004: val_loss improved from 2.37529 to 2.23893, saving model to model.h1.gru\n",
            "INFO:tensorflow:Assets written to: model.h1.gru/assets\n",
            "16000/16000 [==============================] - 12s 750us/sample - loss: 2.1917 - val_loss: 2.2389\n",
            "Epoch 5/30\n",
            "15616/16000 [============================>.] - ETA: 0s - loss: 2.0094\n",
            "Epoch 00005: val_loss improved from 2.23893 to 2.12444, saving model to model.h1.gru\n",
            "INFO:tensorflow:Assets written to: model.h1.gru/assets\n",
            "16000/16000 [==============================] - 12s 730us/sample - loss: 2.0090 - val_loss: 2.1244\n",
            "Epoch 6/30\n",
            "15616/16000 [============================>.] - ETA: 0s - loss: 1.8424\n",
            "Epoch 00006: val_loss improved from 2.12444 to 2.00777, saving model to model.h1.gru\n",
            "INFO:tensorflow:Assets written to: model.h1.gru/assets\n",
            "16000/16000 [==============================] - 12s 727us/sample - loss: 1.8415 - val_loss: 2.0078\n",
            "Epoch 7/30\n",
            "15616/16000 [============================>.] - ETA: 0s - loss: 1.6718\n",
            "Epoch 00007: val_loss improved from 2.00777 to 1.91249, saving model to model.h1.gru\n",
            "INFO:tensorflow:Assets written to: model.h1.gru/assets\n",
            "16000/16000 [==============================] - 12s 740us/sample - loss: 1.6735 - val_loss: 1.9125\n",
            "Epoch 8/30\n",
            "15872/16000 [============================>.] - ETA: 0s - loss: 1.5261\n",
            "Epoch 00008: val_loss improved from 1.91249 to 1.82688, saving model to model.h1.gru\n",
            "INFO:tensorflow:Assets written to: model.h1.gru/assets\n",
            "16000/16000 [==============================] - 12s 755us/sample - loss: 1.5259 - val_loss: 1.8269\n",
            "Epoch 9/30\n",
            "15872/16000 [============================>.] - ETA: 0s - loss: 1.3937\n",
            "Epoch 00009: val_loss improved from 1.82688 to 1.78271, saving model to model.h1.gru\n",
            "INFO:tensorflow:Assets written to: model.h1.gru/assets\n",
            "16000/16000 [==============================] - 12s 750us/sample - loss: 1.3931 - val_loss: 1.7827\n",
            "Epoch 10/30\n",
            "15872/16000 [============================>.] - ETA: 0s - loss: 1.2730\n",
            "Epoch 00010: val_loss improved from 1.78271 to 1.72218, saving model to model.h1.gru\n",
            "INFO:tensorflow:Assets written to: model.h1.gru/assets\n",
            "16000/16000 [==============================] - 12s 780us/sample - loss: 1.2732 - val_loss: 1.7222\n",
            "Epoch 11/30\n",
            "15872/16000 [============================>.] - ETA: 0s - loss: 1.1591\n",
            "Epoch 00011: val_loss improved from 1.72218 to 1.72171, saving model to model.h1.gru\n",
            "INFO:tensorflow:Assets written to: model.h1.gru/assets\n",
            "16000/16000 [==============================] - 11s 660us/sample - loss: 1.1601 - val_loss: 1.7217\n",
            "Epoch 12/30\n",
            "15872/16000 [============================>.] - ETA: 0s - loss: 1.0617\n",
            "Epoch 00012: val_loss improved from 1.72171 to 1.65151, saving model to model.h1.gru\n",
            "INFO:tensorflow:Assets written to: model.h1.gru/assets\n",
            "16000/16000 [==============================] - 13s 789us/sample - loss: 1.0609 - val_loss: 1.6515\n",
            "Epoch 13/30\n",
            "15872/16000 [============================>.] - ETA: 0s - loss: 0.9653\n",
            "Epoch 00013: val_loss improved from 1.65151 to 1.63317, saving model to model.h1.gru\n",
            "INFO:tensorflow:Assets written to: model.h1.gru/assets\n",
            "16000/16000 [==============================] - 10s 654us/sample - loss: 0.9656 - val_loss: 1.6332\n",
            "Epoch 14/30\n",
            "15872/16000 [============================>.] - ETA: 0s - loss: 0.8800\n",
            "Epoch 00014: val_loss improved from 1.63317 to 1.60416, saving model to model.h1.gru\n",
            "INFO:tensorflow:Assets written to: model.h1.gru/assets\n",
            "16000/16000 [==============================] - 13s 807us/sample - loss: 0.8797 - val_loss: 1.6042\n",
            "Epoch 15/30\n",
            "15872/16000 [============================>.] - ETA: 0s - loss: 0.7993\n",
            "Epoch 00015: val_loss did not improve from 1.60416\n",
            "16000/16000 [==============================] - 3s 205us/sample - loss: 0.7997 - val_loss: 1.6227\n",
            "Epoch 16/30\n",
            "15872/16000 [============================>.] - ETA: 0s - loss: 0.7239\n",
            "Epoch 00016: val_loss improved from 1.60416 to 1.58410, saving model to model.h1.gru\n",
            "INFO:tensorflow:Assets written to: model.h1.gru/assets\n",
            "16000/16000 [==============================] - 10s 650us/sample - loss: 0.7236 - val_loss: 1.5841\n",
            "Epoch 17/30\n",
            "15616/16000 [============================>.] - ETA: 0s - loss: 0.6532\n",
            "Epoch 00017: val_loss improved from 1.58410 to 1.56995, saving model to model.h1.gru\n",
            "INFO:tensorflow:Assets written to: model.h1.gru/assets\n",
            "16000/16000 [==============================] - 13s 807us/sample - loss: 0.6527 - val_loss: 1.5699\n",
            "Epoch 18/30\n",
            "15872/16000 [============================>.] - ETA: 0s - loss: 0.5869\n",
            "Epoch 00018: val_loss improved from 1.56995 to 1.55545, saving model to model.h1.gru\n",
            "INFO:tensorflow:Assets written to: model.h1.gru/assets\n",
            "16000/16000 [==============================] - 10s 648us/sample - loss: 0.5874 - val_loss: 1.5555\n",
            "Epoch 19/30\n",
            "15872/16000 [============================>.] - ETA: 0s - loss: 0.5269\n",
            "Epoch 00019: val_loss did not improve from 1.55545\n",
            "16000/16000 [==============================] - 3s 205us/sample - loss: 0.5270 - val_loss: 1.5585\n",
            "Epoch 20/30\n",
            "15616/16000 [============================>.] - ETA: 0s - loss: 0.4702\n",
            "Epoch 00020: val_loss did not improve from 1.55545\n",
            "16000/16000 [==============================] - 3s 207us/sample - loss: 0.4708 - val_loss: 1.5613\n",
            "Epoch 21/30\n",
            "15616/16000 [============================>.] - ETA: 0s - loss: 0.4179\n",
            "Epoch 00021: val_loss did not improve from 1.55545\n",
            "16000/16000 [==============================] - 3s 203us/sample - loss: 0.4192 - val_loss: 1.5670\n",
            "Epoch 22/30\n",
            "15616/16000 [============================>.] - ETA: 0s - loss: 0.3720\n",
            "Epoch 00022: val_loss did not improve from 1.55545\n",
            "16000/16000 [==============================] - 3s 208us/sample - loss: 0.3731 - val_loss: 1.5626\n",
            "Epoch 23/30\n",
            "15872/16000 [============================>.] - ETA: 0s - loss: 0.3281\n",
            "Epoch 00023: val_loss did not improve from 1.55545\n",
            "16000/16000 [==============================] - 3s 205us/sample - loss: 0.3282 - val_loss: 1.5575\n",
            "Epoch 24/30\n",
            "15872/16000 [============================>.] - ETA: 0s - loss: 0.2888\n",
            "Epoch 00024: val_loss did not improve from 1.55545\n",
            "Restoring model weights from the end of the best epoch.\n",
            "16000/16000 [==============================] - 3s 205us/sample - loss: 0.2889 - val_loss: 1.5740\n",
            "Epoch 00024: early stopping\n"
          ]
        },
        {
          "output_type": "display_data",
          "data": {
            "text/plain": "<Figure size 432x288 with 1 Axes>",
            "image/svg+xml": "<?xml version=\"1.0\" encoding=\"utf-8\" standalone=\"no\"?>\n<!DOCTYPE svg PUBLIC \"-//W3C//DTD SVG 1.1//EN\"\n  \"http://www.w3.org/Graphics/SVG/1.1/DTD/svg11.dtd\">\n<svg height=\"262.19625pt\" version=\"1.1\" viewBox=\"0 0 386.059375 262.19625\" width=\"386.059375pt\" xmlns=\"http://www.w3.org/2000/svg\" xmlns:xlink=\"http://www.w3.org/1999/xlink\">\n <metadata>\n  <rdf:RDF xmlns:cc=\"http://creativecommons.org/ns#\" xmlns:dc=\"http://purl.org/dc/elements/1.1/\" xmlns:rdf=\"http://www.w3.org/1999/02/22-rdf-syntax-ns#\">\n   <cc:Work>\n    <dc:type rdf:resource=\"http://purl.org/dc/dcmitype/StillImage\"/>\n    <dc:date>2021-05-15T17:32:02.932218</dc:date>\n    <dc:format>image/svg+xml</dc:format>\n    <dc:creator>\n     <cc:Agent>\n      <dc:title>Matplotlib v3.4.2, https://matplotlib.org/</dc:title>\n     </cc:Agent>\n    </dc:creator>\n   </cc:Work>\n  </rdf:RDF>\n </metadata>\n <defs>\n  <style type=\"text/css\">*{stroke-linecap:butt;stroke-linejoin:round;}</style>\n </defs>\n <g id=\"figure_1\">\n  <g id=\"patch_1\">\n   <path d=\"M 0 262.19625 \nL 386.059375 262.19625 \nL 386.059375 0 \nL 0 0 \nz\n\" style=\"fill:none;\"/>\n  </g>\n  <g id=\"axes_1\">\n   <g id=\"patch_2\">\n    <path d=\"M 44.059375 224.64 \nL 378.859375 224.64 \nL 378.859375 7.2 \nL 44.059375 7.2 \nz\n\" style=\"fill:#ffffff;\"/>\n   </g>\n   <g id=\"matplotlib.axis_1\">\n    <g id=\"xtick_1\">\n     <g id=\"line2d_1\">\n      <defs>\n       <path d=\"M 0 0 \nL 0 3.5 \n\" id=\"me5359b4d04\" style=\"stroke:#000000;stroke-width:0.8;\"/>\n      </defs>\n      <g>\n       <use style=\"stroke:#000000;stroke-width:0.8;\" x=\"59.277557\" xlink:href=\"#me5359b4d04\" y=\"224.64\"/>\n      </g>\n     </g>\n     <g id=\"text_1\">\n      <!-- 0 -->\n      <g transform=\"translate(56.096307 239.238437)scale(0.1 -0.1)\">\n       <defs>\n        <path d=\"M 2034 4250 \nQ 1547 4250 1301 3770 \nQ 1056 3291 1056 2328 \nQ 1056 1369 1301 889 \nQ 1547 409 2034 409 \nQ 2525 409 2770 889 \nQ 3016 1369 3016 2328 \nQ 3016 3291 2770 3770 \nQ 2525 4250 2034 4250 \nz\nM 2034 4750 \nQ 2819 4750 3233 4129 \nQ 3647 3509 3647 2328 \nQ 3647 1150 3233 529 \nQ 2819 -91 2034 -91 \nQ 1250 -91 836 529 \nQ 422 1150 422 2328 \nQ 422 3509 836 4129 \nQ 1250 4750 2034 4750 \nz\n\" id=\"DejaVuSans-30\" transform=\"scale(0.015625)\"/>\n       </defs>\n       <use xlink:href=\"#DejaVuSans-30\"/>\n      </g>\n     </g>\n    </g>\n    <g id=\"xtick_2\">\n     <g id=\"line2d_2\">\n      <g>\n       <use style=\"stroke:#000000;stroke-width:0.8;\" x=\"125.443565\" xlink:href=\"#me5359b4d04\" y=\"224.64\"/>\n      </g>\n     </g>\n     <g id=\"text_2\">\n      <!-- 5 -->\n      <g transform=\"translate(122.262315 239.238437)scale(0.1 -0.1)\">\n       <defs>\n        <path d=\"M 691 4666 \nL 3169 4666 \nL 3169 4134 \nL 1269 4134 \nL 1269 2991 \nQ 1406 3038 1543 3061 \nQ 1681 3084 1819 3084 \nQ 2600 3084 3056 2656 \nQ 3513 2228 3513 1497 \nQ 3513 744 3044 326 \nQ 2575 -91 1722 -91 \nQ 1428 -91 1123 -41 \nQ 819 9 494 109 \nL 494 744 \nQ 775 591 1075 516 \nQ 1375 441 1709 441 \nQ 2250 441 2565 725 \nQ 2881 1009 2881 1497 \nQ 2881 1984 2565 2268 \nQ 2250 2553 1709 2553 \nQ 1456 2553 1204 2497 \nQ 953 2441 691 2322 \nL 691 4666 \nz\n\" id=\"DejaVuSans-35\" transform=\"scale(0.015625)\"/>\n       </defs>\n       <use xlink:href=\"#DejaVuSans-35\"/>\n      </g>\n     </g>\n    </g>\n    <g id=\"xtick_3\">\n     <g id=\"line2d_3\">\n      <g>\n       <use style=\"stroke:#000000;stroke-width:0.8;\" x=\"191.609573\" xlink:href=\"#me5359b4d04\" y=\"224.64\"/>\n      </g>\n     </g>\n     <g id=\"text_3\">\n      <!-- 10 -->\n      <g transform=\"translate(185.247073 239.238437)scale(0.1 -0.1)\">\n       <defs>\n        <path d=\"M 794 531 \nL 1825 531 \nL 1825 4091 \nL 703 3866 \nL 703 4441 \nL 1819 4666 \nL 2450 4666 \nL 2450 531 \nL 3481 531 \nL 3481 0 \nL 794 0 \nL 794 531 \nz\n\" id=\"DejaVuSans-31\" transform=\"scale(0.015625)\"/>\n       </defs>\n       <use xlink:href=\"#DejaVuSans-31\"/>\n       <use x=\"63.623047\" xlink:href=\"#DejaVuSans-30\"/>\n      </g>\n     </g>\n    </g>\n    <g id=\"xtick_4\">\n     <g id=\"line2d_4\">\n      <g>\n       <use style=\"stroke:#000000;stroke-width:0.8;\" x=\"257.775581\" xlink:href=\"#me5359b4d04\" y=\"224.64\"/>\n      </g>\n     </g>\n     <g id=\"text_4\">\n      <!-- 15 -->\n      <g transform=\"translate(251.413081 239.238437)scale(0.1 -0.1)\">\n       <use xlink:href=\"#DejaVuSans-31\"/>\n       <use x=\"63.623047\" xlink:href=\"#DejaVuSans-35\"/>\n      </g>\n     </g>\n    </g>\n    <g id=\"xtick_5\">\n     <g id=\"line2d_5\">\n      <g>\n       <use style=\"stroke:#000000;stroke-width:0.8;\" x=\"323.941588\" xlink:href=\"#me5359b4d04\" y=\"224.64\"/>\n      </g>\n     </g>\n     <g id=\"text_5\">\n      <!-- 20 -->\n      <g transform=\"translate(317.579088 239.238437)scale(0.1 -0.1)\">\n       <defs>\n        <path d=\"M 1228 531 \nL 3431 531 \nL 3431 0 \nL 469 0 \nL 469 531 \nQ 828 903 1448 1529 \nQ 2069 2156 2228 2338 \nQ 2531 2678 2651 2914 \nQ 2772 3150 2772 3378 \nQ 2772 3750 2511 3984 \nQ 2250 4219 1831 4219 \nQ 1534 4219 1204 4116 \nQ 875 4013 500 3803 \nL 500 4441 \nQ 881 4594 1212 4672 \nQ 1544 4750 1819 4750 \nQ 2544 4750 2975 4387 \nQ 3406 4025 3406 3419 \nQ 3406 3131 3298 2873 \nQ 3191 2616 2906 2266 \nQ 2828 2175 2409 1742 \nQ 1991 1309 1228 531 \nz\n\" id=\"DejaVuSans-32\" transform=\"scale(0.015625)\"/>\n       </defs>\n       <use xlink:href=\"#DejaVuSans-32\"/>\n       <use x=\"63.623047\" xlink:href=\"#DejaVuSans-30\"/>\n      </g>\n     </g>\n    </g>\n    <g id=\"text_6\">\n     <!-- epochs -->\n     <g transform=\"translate(193.626563 252.916562)scale(0.1 -0.1)\">\n      <defs>\n       <path d=\"M 3597 1894 \nL 3597 1613 \nL 953 1613 \nQ 991 1019 1311 708 \nQ 1631 397 2203 397 \nQ 2534 397 2845 478 \nQ 3156 559 3463 722 \nL 3463 178 \nQ 3153 47 2828 -22 \nQ 2503 -91 2169 -91 \nQ 1331 -91 842 396 \nQ 353 884 353 1716 \nQ 353 2575 817 3079 \nQ 1281 3584 2069 3584 \nQ 2775 3584 3186 3129 \nQ 3597 2675 3597 1894 \nz\nM 3022 2063 \nQ 3016 2534 2758 2815 \nQ 2500 3097 2075 3097 \nQ 1594 3097 1305 2825 \nQ 1016 2553 972 2059 \nL 3022 2063 \nz\n\" id=\"DejaVuSans-65\" transform=\"scale(0.015625)\"/>\n       <path d=\"M 1159 525 \nL 1159 -1331 \nL 581 -1331 \nL 581 3500 \nL 1159 3500 \nL 1159 2969 \nQ 1341 3281 1617 3432 \nQ 1894 3584 2278 3584 \nQ 2916 3584 3314 3078 \nQ 3713 2572 3713 1747 \nQ 3713 922 3314 415 \nQ 2916 -91 2278 -91 \nQ 1894 -91 1617 61 \nQ 1341 213 1159 525 \nz\nM 3116 1747 \nQ 3116 2381 2855 2742 \nQ 2594 3103 2138 3103 \nQ 1681 3103 1420 2742 \nQ 1159 2381 1159 1747 \nQ 1159 1113 1420 752 \nQ 1681 391 2138 391 \nQ 2594 391 2855 752 \nQ 3116 1113 3116 1747 \nz\n\" id=\"DejaVuSans-70\" transform=\"scale(0.015625)\"/>\n       <path d=\"M 1959 3097 \nQ 1497 3097 1228 2736 \nQ 959 2375 959 1747 \nQ 959 1119 1226 758 \nQ 1494 397 1959 397 \nQ 2419 397 2687 759 \nQ 2956 1122 2956 1747 \nQ 2956 2369 2687 2733 \nQ 2419 3097 1959 3097 \nz\nM 1959 3584 \nQ 2709 3584 3137 3096 \nQ 3566 2609 3566 1747 \nQ 3566 888 3137 398 \nQ 2709 -91 1959 -91 \nQ 1206 -91 779 398 \nQ 353 888 353 1747 \nQ 353 2609 779 3096 \nQ 1206 3584 1959 3584 \nz\n\" id=\"DejaVuSans-6f\" transform=\"scale(0.015625)\"/>\n       <path d=\"M 3122 3366 \nL 3122 2828 \nQ 2878 2963 2633 3030 \nQ 2388 3097 2138 3097 \nQ 1578 3097 1268 2742 \nQ 959 2388 959 1747 \nQ 959 1106 1268 751 \nQ 1578 397 2138 397 \nQ 2388 397 2633 464 \nQ 2878 531 3122 666 \nL 3122 134 \nQ 2881 22 2623 -34 \nQ 2366 -91 2075 -91 \nQ 1284 -91 818 406 \nQ 353 903 353 1747 \nQ 353 2603 823 3093 \nQ 1294 3584 2113 3584 \nQ 2378 3584 2631 3529 \nQ 2884 3475 3122 3366 \nz\n\" id=\"DejaVuSans-63\" transform=\"scale(0.015625)\"/>\n       <path d=\"M 3513 2113 \nL 3513 0 \nL 2938 0 \nL 2938 2094 \nQ 2938 2591 2744 2837 \nQ 2550 3084 2163 3084 \nQ 1697 3084 1428 2787 \nQ 1159 2491 1159 1978 \nL 1159 0 \nL 581 0 \nL 581 4863 \nL 1159 4863 \nL 1159 2956 \nQ 1366 3272 1645 3428 \nQ 1925 3584 2291 3584 \nQ 2894 3584 3203 3211 \nQ 3513 2838 3513 2113 \nz\n\" id=\"DejaVuSans-68\" transform=\"scale(0.015625)\"/>\n       <path d=\"M 2834 3397 \nL 2834 2853 \nQ 2591 2978 2328 3040 \nQ 2066 3103 1784 3103 \nQ 1356 3103 1142 2972 \nQ 928 2841 928 2578 \nQ 928 2378 1081 2264 \nQ 1234 2150 1697 2047 \nL 1894 2003 \nQ 2506 1872 2764 1633 \nQ 3022 1394 3022 966 \nQ 3022 478 2636 193 \nQ 2250 -91 1575 -91 \nQ 1294 -91 989 -36 \nQ 684 19 347 128 \nL 347 722 \nQ 666 556 975 473 \nQ 1284 391 1588 391 \nQ 1994 391 2212 530 \nQ 2431 669 2431 922 \nQ 2431 1156 2273 1281 \nQ 2116 1406 1581 1522 \nL 1381 1569 \nQ 847 1681 609 1914 \nQ 372 2147 372 2553 \nQ 372 3047 722 3315 \nQ 1072 3584 1716 3584 \nQ 2034 3584 2315 3537 \nQ 2597 3491 2834 3397 \nz\n\" id=\"DejaVuSans-73\" transform=\"scale(0.015625)\"/>\n      </defs>\n      <use xlink:href=\"#DejaVuSans-65\"/>\n      <use x=\"61.523438\" xlink:href=\"#DejaVuSans-70\"/>\n      <use x=\"125\" xlink:href=\"#DejaVuSans-6f\"/>\n      <use x=\"186.181641\" xlink:href=\"#DejaVuSans-63\"/>\n      <use x=\"241.162109\" xlink:href=\"#DejaVuSans-68\"/>\n      <use x=\"304.541016\" xlink:href=\"#DejaVuSans-73\"/>\n     </g>\n    </g>\n   </g>\n   <g id=\"matplotlib.axis_2\">\n    <g id=\"ytick_1\">\n     <g id=\"line2d_6\">\n      <defs>\n       <path d=\"M 0 0 \nL -3.5 0 \n\" id=\"mc7fc561ef3\" style=\"stroke:#000000;stroke-width:0.8;\"/>\n      </defs>\n      <g>\n       <use style=\"stroke:#000000;stroke-width:0.8;\" x=\"44.059375\" xlink:href=\"#mc7fc561ef3\" y=\"200.661801\"/>\n      </g>\n     </g>\n     <g id=\"text_7\">\n      <!-- 0.5 -->\n      <g transform=\"translate(21.15625 204.46102)scale(0.1 -0.1)\">\n       <defs>\n        <path d=\"M 684 794 \nL 1344 794 \nL 1344 0 \nL 684 0 \nL 684 794 \nz\n\" id=\"DejaVuSans-2e\" transform=\"scale(0.015625)\"/>\n       </defs>\n       <use xlink:href=\"#DejaVuSans-30\"/>\n       <use x=\"63.623047\" xlink:href=\"#DejaVuSans-2e\"/>\n       <use x=\"95.410156\" xlink:href=\"#DejaVuSans-35\"/>\n      </g>\n     </g>\n    </g>\n    <g id=\"ytick_2\">\n     <g id=\"line2d_7\">\n      <g>\n       <use style=\"stroke:#000000;stroke-width:0.8;\" x=\"44.059375\" xlink:href=\"#mc7fc561ef3\" y=\"167.271267\"/>\n      </g>\n     </g>\n     <g id=\"text_8\">\n      <!-- 1.0 -->\n      <g transform=\"translate(21.15625 171.070485)scale(0.1 -0.1)\">\n       <use xlink:href=\"#DejaVuSans-31\"/>\n       <use x=\"63.623047\" xlink:href=\"#DejaVuSans-2e\"/>\n       <use x=\"95.410156\" xlink:href=\"#DejaVuSans-30\"/>\n      </g>\n     </g>\n    </g>\n    <g id=\"ytick_3\">\n     <g id=\"line2d_8\">\n      <g>\n       <use style=\"stroke:#000000;stroke-width:0.8;\" x=\"44.059375\" xlink:href=\"#mc7fc561ef3\" y=\"133.880732\"/>\n      </g>\n     </g>\n     <g id=\"text_9\">\n      <!-- 1.5 -->\n      <g transform=\"translate(21.15625 137.679951)scale(0.1 -0.1)\">\n       <use xlink:href=\"#DejaVuSans-31\"/>\n       <use x=\"63.623047\" xlink:href=\"#DejaVuSans-2e\"/>\n       <use x=\"95.410156\" xlink:href=\"#DejaVuSans-35\"/>\n      </g>\n     </g>\n    </g>\n    <g id=\"ytick_4\">\n     <g id=\"line2d_9\">\n      <g>\n       <use style=\"stroke:#000000;stroke-width:0.8;\" x=\"44.059375\" xlink:href=\"#mc7fc561ef3\" y=\"100.490198\"/>\n      </g>\n     </g>\n     <g id=\"text_10\">\n      <!-- 2.0 -->\n      <g transform=\"translate(21.15625 104.289417)scale(0.1 -0.1)\">\n       <use xlink:href=\"#DejaVuSans-32\"/>\n       <use x=\"63.623047\" xlink:href=\"#DejaVuSans-2e\"/>\n       <use x=\"95.410156\" xlink:href=\"#DejaVuSans-30\"/>\n      </g>\n     </g>\n    </g>\n    <g id=\"ytick_5\">\n     <g id=\"line2d_10\">\n      <g>\n       <use style=\"stroke:#000000;stroke-width:0.8;\" x=\"44.059375\" xlink:href=\"#mc7fc561ef3\" y=\"67.099664\"/>\n      </g>\n     </g>\n     <g id=\"text_11\">\n      <!-- 2.5 -->\n      <g transform=\"translate(21.15625 70.898883)scale(0.1 -0.1)\">\n       <use xlink:href=\"#DejaVuSans-32\"/>\n       <use x=\"63.623047\" xlink:href=\"#DejaVuSans-2e\"/>\n       <use x=\"95.410156\" xlink:href=\"#DejaVuSans-35\"/>\n      </g>\n     </g>\n    </g>\n    <g id=\"ytick_6\">\n     <g id=\"line2d_11\">\n      <g>\n       <use style=\"stroke:#000000;stroke-width:0.8;\" x=\"44.059375\" xlink:href=\"#mc7fc561ef3\" y=\"33.70913\"/>\n      </g>\n     </g>\n     <g id=\"text_12\">\n      <!-- 3.0 -->\n      <g transform=\"translate(21.15625 37.508348)scale(0.1 -0.1)\">\n       <defs>\n        <path d=\"M 2597 2516 \nQ 3050 2419 3304 2112 \nQ 3559 1806 3559 1356 \nQ 3559 666 3084 287 \nQ 2609 -91 1734 -91 \nQ 1441 -91 1130 -33 \nQ 819 25 488 141 \nL 488 750 \nQ 750 597 1062 519 \nQ 1375 441 1716 441 \nQ 2309 441 2620 675 \nQ 2931 909 2931 1356 \nQ 2931 1769 2642 2001 \nQ 2353 2234 1838 2234 \nL 1294 2234 \nL 1294 2753 \nL 1863 2753 \nQ 2328 2753 2575 2939 \nQ 2822 3125 2822 3475 \nQ 2822 3834 2567 4026 \nQ 2313 4219 1838 4219 \nQ 1578 4219 1281 4162 \nQ 984 4106 628 3988 \nL 628 4550 \nQ 988 4650 1302 4700 \nQ 1616 4750 1894 4750 \nQ 2613 4750 3031 4423 \nQ 3450 4097 3450 3541 \nQ 3450 3153 3228 2886 \nQ 3006 2619 2597 2516 \nz\n\" id=\"DejaVuSans-33\" transform=\"scale(0.015625)\"/>\n       </defs>\n       <use xlink:href=\"#DejaVuSans-33\"/>\n       <use x=\"63.623047\" xlink:href=\"#DejaVuSans-2e\"/>\n       <use x=\"95.410156\" xlink:href=\"#DejaVuSans-30\"/>\n      </g>\n     </g>\n    </g>\n    <g id=\"text_13\">\n     <!-- val_loss -->\n     <g transform=\"translate(14.798438 135.490312)rotate(-90)scale(0.1 -0.1)\">\n      <defs>\n       <path d=\"M 191 3500 \nL 800 3500 \nL 1894 563 \nL 2988 3500 \nL 3597 3500 \nL 2284 0 \nL 1503 0 \nL 191 3500 \nz\n\" id=\"DejaVuSans-76\" transform=\"scale(0.015625)\"/>\n       <path d=\"M 2194 1759 \nQ 1497 1759 1228 1600 \nQ 959 1441 959 1056 \nQ 959 750 1161 570 \nQ 1363 391 1709 391 \nQ 2188 391 2477 730 \nQ 2766 1069 2766 1631 \nL 2766 1759 \nL 2194 1759 \nz\nM 3341 1997 \nL 3341 0 \nL 2766 0 \nL 2766 531 \nQ 2569 213 2275 61 \nQ 1981 -91 1556 -91 \nQ 1019 -91 701 211 \nQ 384 513 384 1019 \nQ 384 1609 779 1909 \nQ 1175 2209 1959 2209 \nL 2766 2209 \nL 2766 2266 \nQ 2766 2663 2505 2880 \nQ 2244 3097 1772 3097 \nQ 1472 3097 1187 3025 \nQ 903 2953 641 2809 \nL 641 3341 \nQ 956 3463 1253 3523 \nQ 1550 3584 1831 3584 \nQ 2591 3584 2966 3190 \nQ 3341 2797 3341 1997 \nz\n\" id=\"DejaVuSans-61\" transform=\"scale(0.015625)\"/>\n       <path d=\"M 603 4863 \nL 1178 4863 \nL 1178 0 \nL 603 0 \nL 603 4863 \nz\n\" id=\"DejaVuSans-6c\" transform=\"scale(0.015625)\"/>\n       <path d=\"M 3263 -1063 \nL 3263 -1509 \nL -63 -1509 \nL -63 -1063 \nL 3263 -1063 \nz\n\" id=\"DejaVuSans-5f\" transform=\"scale(0.015625)\"/>\n      </defs>\n      <use xlink:href=\"#DejaVuSans-76\"/>\n      <use x=\"59.179688\" xlink:href=\"#DejaVuSans-61\"/>\n      <use x=\"120.458984\" xlink:href=\"#DejaVuSans-6c\"/>\n      <use x=\"148.242188\" xlink:href=\"#DejaVuSans-5f\"/>\n      <use x=\"198.242188\" xlink:href=\"#DejaVuSans-6c\"/>\n      <use x=\"226.025391\" xlink:href=\"#DejaVuSans-6f\"/>\n      <use x=\"287.207031\" xlink:href=\"#DejaVuSans-73\"/>\n      <use x=\"339.306641\" xlink:href=\"#DejaVuSans-73\"/>\n     </g>\n    </g>\n   </g>\n   <g id=\"line2d_12\">\n    <path clip-path=\"url(#p2154948e8d)\" d=\"M 59.277557 17.083636 \nL 72.510758 59.885238 \nL 85.74396 74.549519 \nL 98.977162 87.687603 \nL 112.210363 99.886133 \nL 125.443565 111.074065 \nL 138.676766 122.295071 \nL 151.909968 132.15007 \nL 165.143169 141.018184 \nL 178.376371 149.027403 \nL 191.609573 156.578725 \nL 204.842774 163.206775 \nL 218.075976 169.570958 \nL 231.309177 175.308188 \nL 244.542379 180.645762 \nL 257.775581 185.730691 \nL 271.008782 190.464767 \nL 284.241984 194.826198 \nL 297.475185 198.859923 \nL 310.708387 202.614194 \nL 323.941588 206.055432 \nL 337.17479 209.138692 \nL 350.407992 212.135213 \nL 363.641193 214.756364 \n\" style=\"fill:none;stroke:#1f77b4;stroke-linecap:square;stroke-width:1.5;\"/>\n   </g>\n   <g id=\"line2d_13\">\n    <path clip-path=\"url(#p2154948e8d)\" d=\"M 59.277557 53.134875 \nL 72.510758 63.107723 \nL 85.74396 75.427878 \nL 98.977162 84.534233 \nL 112.210363 92.179892 \nL 125.443565 99.97157 \nL 138.676766 106.334445 \nL 151.909968 112.051358 \nL 165.143169 115.001343 \nL 178.376371 119.043069 \nL 191.609573 119.07493 \nL 204.842774 123.762743 \nL 218.075976 124.987356 \nL 231.309177 126.924667 \nL 244.542379 125.685368 \nL 257.775581 128.264234 \nL 271.008782 129.209618 \nL 284.241984 130.177537 \nL 297.475185 129.972404 \nL 310.708387 129.789331 \nL 323.941588 129.407305 \nL 337.17479 129.700568 \nL 350.407992 130.042244 \nL 363.641193 128.938244 \n\" style=\"fill:none;stroke:#ff7f0e;stroke-linecap:square;stroke-width:1.5;\"/>\n   </g>\n   <g id=\"patch_3\">\n    <path d=\"M 44.059375 224.64 \nL 44.059375 7.2 \n\" style=\"fill:none;stroke:#000000;stroke-linecap:square;stroke-linejoin:miter;stroke-width:0.8;\"/>\n   </g>\n   <g id=\"patch_4\">\n    <path d=\"M 378.859375 224.64 \nL 378.859375 7.2 \n\" style=\"fill:none;stroke:#000000;stroke-linecap:square;stroke-linejoin:miter;stroke-width:0.8;\"/>\n   </g>\n   <g id=\"patch_5\">\n    <path d=\"M 44.059375 224.64 \nL 378.859375 224.64 \n\" style=\"fill:none;stroke:#000000;stroke-linecap:square;stroke-linejoin:miter;stroke-width:0.8;\"/>\n   </g>\n   <g id=\"patch_6\">\n    <path d=\"M 44.059375 7.2 \nL 378.859375 7.2 \n\" style=\"fill:none;stroke:#000000;stroke-linecap:square;stroke-linejoin:miter;stroke-width:0.8;\"/>\n   </g>\n   <g id=\"legend_1\">\n    <g id=\"patch_7\">\n     <path d=\"M 290.625 44.55625 \nL 371.859375 44.55625 \nQ 373.859375 44.55625 373.859375 42.55625 \nL 373.859375 14.2 \nQ 373.859375 12.2 371.859375 12.2 \nL 290.625 12.2 \nQ 288.625 12.2 288.625 14.2 \nL 288.625 42.55625 \nQ 288.625 44.55625 290.625 44.55625 \nz\n\" style=\"fill:#ffffff;opacity:0.8;stroke:#cccccc;stroke-linejoin:miter;\"/>\n    </g>\n    <g id=\"line2d_14\">\n     <path d=\"M 292.625 20.298437 \nL 312.625 20.298437 \n\" style=\"fill:none;stroke:#1f77b4;stroke-linecap:square;stroke-width:1.5;\"/>\n    </g>\n    <g id=\"line2d_15\"/>\n    <g id=\"text_14\">\n     <!-- train -->\n     <g transform=\"translate(320.625 23.798437)scale(0.1 -0.1)\">\n      <defs>\n       <path d=\"M 1172 4494 \nL 1172 3500 \nL 2356 3500 \nL 2356 3053 \nL 1172 3053 \nL 1172 1153 \nQ 1172 725 1289 603 \nQ 1406 481 1766 481 \nL 2356 481 \nL 2356 0 \nL 1766 0 \nQ 1100 0 847 248 \nQ 594 497 594 1153 \nL 594 3053 \nL 172 3053 \nL 172 3500 \nL 594 3500 \nL 594 4494 \nL 1172 4494 \nz\n\" id=\"DejaVuSans-74\" transform=\"scale(0.015625)\"/>\n       <path d=\"M 2631 2963 \nQ 2534 3019 2420 3045 \nQ 2306 3072 2169 3072 \nQ 1681 3072 1420 2755 \nQ 1159 2438 1159 1844 \nL 1159 0 \nL 581 0 \nL 581 3500 \nL 1159 3500 \nL 1159 2956 \nQ 1341 3275 1631 3429 \nQ 1922 3584 2338 3584 \nQ 2397 3584 2469 3576 \nQ 2541 3569 2628 3553 \nL 2631 2963 \nz\n\" id=\"DejaVuSans-72\" transform=\"scale(0.015625)\"/>\n       <path d=\"M 603 3500 \nL 1178 3500 \nL 1178 0 \nL 603 0 \nL 603 3500 \nz\nM 603 4863 \nL 1178 4863 \nL 1178 4134 \nL 603 4134 \nL 603 4863 \nz\n\" id=\"DejaVuSans-69\" transform=\"scale(0.015625)\"/>\n       <path d=\"M 3513 2113 \nL 3513 0 \nL 2938 0 \nL 2938 2094 \nQ 2938 2591 2744 2837 \nQ 2550 3084 2163 3084 \nQ 1697 3084 1428 2787 \nQ 1159 2491 1159 1978 \nL 1159 0 \nL 581 0 \nL 581 3500 \nL 1159 3500 \nL 1159 2956 \nQ 1366 3272 1645 3428 \nQ 1925 3584 2291 3584 \nQ 2894 3584 3203 3211 \nQ 3513 2838 3513 2113 \nz\n\" id=\"DejaVuSans-6e\" transform=\"scale(0.015625)\"/>\n      </defs>\n      <use xlink:href=\"#DejaVuSans-74\"/>\n      <use x=\"39.208984\" xlink:href=\"#DejaVuSans-72\"/>\n      <use x=\"80.322266\" xlink:href=\"#DejaVuSans-61\"/>\n      <use x=\"141.601562\" xlink:href=\"#DejaVuSans-69\"/>\n      <use x=\"169.384766\" xlink:href=\"#DejaVuSans-6e\"/>\n     </g>\n    </g>\n    <g id=\"line2d_16\">\n     <path d=\"M 292.625 34.976562 \nL 312.625 34.976562 \n\" style=\"fill:none;stroke:#ff7f0e;stroke-linecap:square;stroke-width:1.5;\"/>\n    </g>\n    <g id=\"line2d_17\"/>\n    <g id=\"text_15\">\n     <!-- validation -->\n     <g transform=\"translate(320.625 38.476562)scale(0.1 -0.1)\">\n      <defs>\n       <path d=\"M 2906 2969 \nL 2906 4863 \nL 3481 4863 \nL 3481 0 \nL 2906 0 \nL 2906 525 \nQ 2725 213 2448 61 \nQ 2172 -91 1784 -91 \nQ 1150 -91 751 415 \nQ 353 922 353 1747 \nQ 353 2572 751 3078 \nQ 1150 3584 1784 3584 \nQ 2172 3584 2448 3432 \nQ 2725 3281 2906 2969 \nz\nM 947 1747 \nQ 947 1113 1208 752 \nQ 1469 391 1925 391 \nQ 2381 391 2643 752 \nQ 2906 1113 2906 1747 \nQ 2906 2381 2643 2742 \nQ 2381 3103 1925 3103 \nQ 1469 3103 1208 2742 \nQ 947 2381 947 1747 \nz\n\" id=\"DejaVuSans-64\" transform=\"scale(0.015625)\"/>\n      </defs>\n      <use xlink:href=\"#DejaVuSans-76\"/>\n      <use x=\"59.179688\" xlink:href=\"#DejaVuSans-61\"/>\n      <use x=\"120.458984\" xlink:href=\"#DejaVuSans-6c\"/>\n      <use x=\"148.242188\" xlink:href=\"#DejaVuSans-69\"/>\n      <use x=\"176.025391\" xlink:href=\"#DejaVuSans-64\"/>\n      <use x=\"239.501953\" xlink:href=\"#DejaVuSans-61\"/>\n      <use x=\"300.78125\" xlink:href=\"#DejaVuSans-74\"/>\n      <use x=\"339.990234\" xlink:href=\"#DejaVuSans-69\"/>\n      <use x=\"367.773438\" xlink:href=\"#DejaVuSans-6f\"/>\n      <use x=\"428.955078\" xlink:href=\"#DejaVuSans-6e\"/>\n     </g>\n    </g>\n   </g>\n  </g>\n </g>\n <defs>\n  <clipPath id=\"p2154948e8d\">\n   <rect height=\"217.44\" width=\"334.8\" x=\"44.059375\" y=\"7.2\"/>\n  </clipPath>\n </defs>\n</svg>\n",
            "image/png": "[encoded data removed]"
          },
          "metadata": {
            "needs_background": "light"
          }
        }
      ],
      "source": [
        "# Ejecución de GRU\n",
        "_check = checks[2]\n",
        "_model_name = model_names[2]\n",
        "_model = models[2]\n",
        "train_and_save(check_name=_check, model_name=_model_name, model=_model)\n",
        "%reset_selective -f \"^history$\""
      ]
    },
    {
      "cell_type": "markdown",
      "metadata": {
        "id": "OU3JrKkq32Fr"
      },
      "source": [
        "### Make Predictions"
      ]
    },
    {
      "cell_type": "markdown",
      "metadata": {
        "id": "TVAr-Eg432Fs"
      },
      "source": [
        "Let's load the saved model to make predictions."
      ]
    },
    {
      "cell_type": "code",
      "metadata": {
        "id": "Wje53Qe132Fs",
        "outputId": "0d81b470-0b87-4064-b259-93a86f3adab8"
      },
      "source": [
        "loaded_model_lstm = load_model('lstm.h5')\n",
        "preds_lstm = loaded_model_lstm.predict_classes(testX.reshape((testX.shape[0],testX.shape[1])))"
      ],
      "execution_count": 37,
      "outputs": []
    },
    {
      "cell_type": "code",
      "execution_count": 38,
      "metadata": {},
      "outputs": [],
      "source": [
        "loaded_model_rnn = load_model('rnn.h5')\n",
        "preds_rnn = loaded_model_rnn.predict_classes(testX.reshape((testX.shape[0],testX.shape[1])))"
      ]
    },
    {
      "cell_type": "code",
      "execution_count": 39,
      "metadata": {},
      "outputs": [],
      "source": [
        "loaded_model_gru = load_model('gru.h5')\n",
        "preds_gru = loaded_model_gru.predict_classes(testX.reshape((testX.shape[0],testX.shape[1])))"
      ]
    },
    {
      "cell_type": "code",
      "metadata": {
        "id": "7GpSY6Um32Fs"
      },
      "source": [
        "def get_word(n, tokenizer):\n",
        "    for word, index in tokenizer.word_index.items():\n",
        "        if index == n:\n",
        "            return word\n",
        "    return None"
      ],
      "execution_count": 40,
      "outputs": []
    },
    {
      "cell_type": "code",
      "metadata": {
        "id": "uVOFky7032Ft"
      },
      "source": [
        "predictions = [preds_lstm, preds_rnn, preds_gru]\n",
        "for model, preds in zip(model_names, predictions):\n",
        "    print(\"-\"*50)\n",
        "    print(\"Haciendo predicciones para el modelo {}\".format(model.split(\".\")[0]))\n",
        "    preds_text = []\n",
        "    for i in preds:\n",
        "        temp = []\n",
        "        for j in range(len(i)):\n",
        "            t = get_word(i[j], eng_tokenizer)\n",
        "            if j > 0:\n",
        "                if (t == get_word(i[j-1], eng_tokenizer)) or (t == None):\n",
        "                    temp.append('')\n",
        "                else:\n",
        "                    temp.append(t)\n",
        "                \n",
        "            else:\n",
        "                if(t == None):\n",
        "                    temp.append('')\n",
        "                else:\n",
        "                    temp.append(t)            \n",
        "            \n",
        "        preds_text.append(' '.join(temp))\n",
        "\n",
        "    pred_df = pd.DataFrame({'actual' : test[:,0], 'predicted' : preds_text})\n",
        "    pd.set_option('display.max_colwidth', 200)\n",
        "    print(\"-\"*50)\n",
        "    print(\"Imprimiendo primeros 15 registros\")\n",
        "    print(pred_df.head(15))\n",
        "    print(\"-\"*50)\n",
        "    print(\"Imprimiendo últimos 15 registros\")\n",
        "    print(pred_df.tail(15))\n",
        "    print(\"-\"*50)\n",
        "    print(\"Imprimiendo 15 registros aleatorios\")\n",
        "    print(pred_df.sample(15))"
      ],
      "execution_count": 43,
      "outputs": [
        {
          "output_type": "stream",
          "name": "stdout",
          "text": [
            "--------------------------------------------------\n",
            "Haciendo predicciones para el modelo lstm\n",
            "--------------------------------------------------\n",
            "Imprimiendo primeros 15 registros\n",
            "                 actual                   predicted\n",
            "0    should i repeat it         should i smoke     \n",
            "1       do you know her               are you      \n",
            "2   turn down the music         tell it dishes     \n",
            "3          i hope i win           i hope to win    \n",
            "4         thats evident          its is simple     \n",
            "5         tom exercised          tom canceled      \n",
            "6         call for help     help screamed help     \n",
            "7          she loves us            she saw him     \n",
            "8            i was last             i was face     \n",
            "9   tom saved your life  tom misses your father    \n",
            "10    this is so boring             this is so     \n",
            "11  are you lying to me        are you lying me    \n",
            "12  they lost their dog              they dog      \n",
            "13      yours is better          the is better     \n",
            "14    im as tall as tom            im am as  tom   \n",
            "--------------------------------------------------\n",
            "Imprimiendo últimos 15 registros\n",
            "                   actual                 predicted\n",
            "4985     he shares a room        he took a room    \n",
            "4986  i cant speak french    i cant talk french    \n",
            "4987            humor tom            tell tom      \n",
            "4988  show me some others          show me for     \n",
            "4989    they are all dead      theyre all dead     \n",
            "4990            it failed                  i       \n",
            "4991     i will try again            ill do it     \n",
            "4992       yours is worse       yours is worse     \n",
            "4993   how does this work  how does that do that   \n",
            "4994      the radar broke                the       \n",
            "4995             lets eat     lets begin lunch     \n",
            "4996     what is all this          whats this      \n",
            "4997   is there any bread           is it time     \n",
            "4998         write in ink         write in ink     \n",
            "4999   mary is hysterical          tom  in home    \n",
            "--------------------------------------------------\n",
            "Imprimiendo 15 registros aleatorios\n",
            "                    actual                  predicted\n",
            "172    tom got embarrassed       tom fell closer     \n",
            "2748        dont play dead         dont touch at     \n",
            "2220     lets not watch tv       i wouldnt  sleep    \n",
            "3610         i wasnt ready      i wasnt prepared     \n",
            "1020      i bought a watch         i bought a car    \n",
            "4520           we promised             ill do it     \n",
            "1354            i was sick            i was sick     \n",
            "2449       this is my room        this is my room    \n",
            "1385      tom quit smoking  tom stopped betrayed     \n",
            "2602      nobody taught me        nobody will it     \n",
            "2733    i slept nine hours   i slept into details    \n",
            "237   he begged me to stay           i feel to so    \n",
            "2180        they quarreled            they lost      \n",
            "895        are you sisters      are they friends     \n",
            "964      this is gibberish         this is a rule    \n",
            "--------------------------------------------------\n",
            "Haciendo predicciones para el modelo rnn\n",
            "--------------------------------------------------\n",
            "Imprimiendo primeros 15 registros\n",
            "                 actual                predicted\n",
            "0    should i repeat it      should i drink     \n",
            "1       do you know her         think they      \n",
            "2   turn down the music  show broke the down    \n",
            "3          i hope i win        i wish to win    \n",
            "4         thats evident             its is      \n",
            "5         tom exercised        tom cheated      \n",
            "6         call for help     help helps help     \n",
            "7          she loves us        she found us     \n",
            "8            i was last          i went the     \n",
            "9   tom saved your life       tom is my life    \n",
            "10    this is so boring          this is so     \n",
            "11  are you lying to me     are you going me    \n",
            "12  they lost their dog  bring lost your dog    \n",
            "13      yours is better         the food is     \n",
            "14    im as tall as tom       im as tall tom    \n",
            "--------------------------------------------------\n",
            "Imprimiendo últimos 15 registros\n",
            "                   actual                predicted\n",
            "4985     he shares a room       he took a room    \n",
            "4986  i cant speak french  i cant speak french    \n",
            "4987            humor tom       they find tom     \n",
            "4988  show me some others         show me you     \n",
            "4989    they are all dead     theyre all dead     \n",
            "4990            it failed         i yourself      \n",
            "4991     i will try again       just it  again    \n",
            "4992       yours is worse      yours is  worse    \n",
            "4993   how does this work     how does that do    \n",
            "4994      the radar broke     the ship is over    \n",
            "4995             lets eat      lets eat lunch     \n",
            "4996     what is all this         whats this      \n",
            "4997   is there any bread   is that important     \n",
            "4998         write in ink           write in      \n",
            "4999   mary is hysterical       i got to today    \n",
            "--------------------------------------------------\n",
            "Imprimiendo 15 registros aleatorios\n",
            "                   actual              predicted\n",
            "2525      i want my money      i want my key    \n",
            "4298   ill deal with that      ill get on it    \n",
            "3487        thats hogwash          thats a      \n",
            "2531         ill eat here            here       \n",
            "3311   he acted foolishly       he became a     \n",
            "882        it didnt break     it didnt have     \n",
            "168           get dressed      keep came up     \n",
            "1494   why are you so sad  why are you so sad   \n",
            "3748      we speak french  we i speak french    \n",
            "3749          come see me       come see me     \n",
            "4715  enjoy your holidays   enjoy your food     \n",
            "3067       i hurried home     i miss to home    \n",
            "2520          i love math     i love sports     \n",
            "3835     i was dumbstruck          i was me     \n",
            "4238        have some tea    have a eggnog a    \n",
            "--------------------------------------------------\n",
            "Haciendo predicciones para el modelo gru\n",
            "--------------------------------------------------\n",
            "Imprimiendo primeros 15 registros\n",
            "                 actual               predicted\n",
            "0    should i repeat it        did i stand     \n",
            "1       do you know her           do know      \n",
            "2   turn down the music          go to the     \n",
            "3          i hope i win      i like to play    \n",
            "4         thats evident        its simple      \n",
            "5         tom exercised          tom knew      \n",
            "6         call for help             help       \n",
            "7          she loves us      she likes him     \n",
            "8            i was last    i was yesterday     \n",
            "9   tom saved your life   tom sent his head    \n",
            "10    this is so boring         this is so     \n",
            "11  are you lying to me  are you lying to me   \n",
            "12  they lost their dog  we ruined your dog    \n",
            "13      yours is better      the is better     \n",
            "14    im as tall as tom        im am as  tom   \n",
            "--------------------------------------------------\n",
            "Imprimiendo últimos 15 registros\n",
            "                   actual                predicted\n",
            "4985     he shares a room        he took his a    \n",
            "4986  i cant speak french  i cant speak french    \n",
            "4987            humor tom             go tom      \n",
            "4988  show me some others         let me rice     \n",
            "4989    they are all dead         theyre all      \n",
            "4990            it failed                it       \n",
            "4991     i will try again        ill about it     \n",
            "4992       yours is worse             the is      \n",
            "4993   how does this work      how did that do    \n",
            "4994      the radar broke       the doesnt is     \n",
            "4995             lets eat      lets eat lunch     \n",
            "4996     what is all this         whats this      \n",
            "4997   is there any bread         what it won     \n",
            "4998         write in ink        write in ink     \n",
            "4999   mary is hysterical     tom is at crying    \n",
            "--------------------------------------------------\n",
            "Imprimiendo 15 registros aleatorios\n",
            "                    actual                 predicted\n",
            "3431       i need his help      i need your help    \n",
            "657   i hate playing cards  i hate playing cards    \n",
            "1421    im a perfectionist                im a      \n",
            "4501       this is so good       this is so good    \n",
            "3843      you did say that      you did you that    \n",
            "4733   she opened her eyes     she eyes his eyes    \n",
            "1071        am i not right      arent you right     \n",
            "2683     thats pure genius       its really  bad    \n",
            "4209  i love green peppers    i love tomato soup    \n",
            "1825       he saw the girl          i saw a long    \n",
            "4280     i understand this           i use this     \n",
            "4987             humor tom              go tom      \n",
            "221      how did you do it       how did we do it   \n",
            "1649         i dont get it    i dont understand     \n",
            "2650  i like your attitude      i like your name    \n"
          ]
        }
      ]
    }
  ]
}